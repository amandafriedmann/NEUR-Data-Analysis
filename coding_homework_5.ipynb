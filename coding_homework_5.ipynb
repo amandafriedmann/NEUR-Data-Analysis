{
  "nbformat": 4,
  "nbformat_minor": 0,
  "metadata": {
    "colab": {
      "provenance": [],
      "include_colab_link": true
    },
    "kernelspec": {
      "name": "python3",
      "display_name": "Python 3"
    },
    "language_info": {
      "name": "python"
    }
  },
  "cells": [
    {
      "cell_type": "markdown",
      "metadata": {
        "id": "view-in-github",
        "colab_type": "text"
      },
      "source": [
        "<a href=\"https://colab.research.google.com/github/amandafriedmann/NEUR-Data-Analysis/blob/main/coding_homework_5.ipynb\" target=\"_parent\"><img src=\"https://colab.research.google.com/assets/colab-badge.svg\" alt=\"Open In Colab\"/></a>"
      ]
    },
    {
      "cell_type": "markdown",
      "source": [
        "# Coding Homework #5\n",
        "\n",
        "**Instructions**\n",
        "\n",
        "1. Make a *Markdown Cell* that contains the following information:\n",
        "- Your name (small header)\n",
        "- The name of this class (italicized)\n",
        "- The date (bolded)\n",
        "\n",
        "2. Create a *Code Cell* that imports relevant modules - specifically, <code>numpy as np</code>, and <code>matplotlib.pyplot as plt</code>.\n",
        "\n",
        "3. For this assignment, you will be working with the <code>acc_hits_hw5.csv</code> and <code>acc_fa_hw5.csv</code> files in our shared Google Drive folder. Create a *Code Cell* that imports these files as <code>numpy</code> arrays called <code>acc_hits</code> and <code>acc_fa</code>, respectively. To do this, you should upload each file to your personal GitHub repo.\n",
        "\n",
        "4. Create a *Code Cell* that prints the <code>shape</code> of each array. \n",
        "\n",
        "5. Both your <code>acc_hits</code> and <code>acc_fa</code> arrays consist of LFP data recorded from the mouse anterior cingulate cortex. Rows of these arrays correspond to separate trials, and columns correspond to samples (timepoints). The task that the mouse was performing is called the **continuous performance test**. This test measures sustained attention. Specifically, the mouse is shaped to respond to a stimulus on a touchscreen. The mouse is rewarded (receives some strawberry milkshake) when it responds to one type of stimulus. This stimulus is called the S+ (it usually looks like horizontal or vertical black and white bars). When the mouse responds to this stimulus, we call that response a **hit**. Your <code>acc_hits</code> variable contains LFP surrounding these hits. In contrast, when the mouse is presented with another stimulus (the S-, which usually looks like a snowflake), it is not supposed to respond. When it does respond, we call that a **false alarm**. Your <code>acc_fa</code> variable contains LFP surrounding these false alarms. So, you have two arrays - one array with LFP recorded during correct choices (hits), and one array with LFP recorded during incorrect choices (false alarms).\n",
        "\n",
        "6. In a new *Code Cell*, create variable called <code>time</code> that has the same length as <code>acc_hits</code> and <code>acc_fa</code>, with equally spaced values between \"zero\" and \"four\" (the length of each trial, in seconds). \n",
        "\n",
        "7. In a new *Code Cell*, create an expression to determine the sampling rate of the data using the knowledge that you have 8001 samples, and the total length of each sample is 4 seconds.\n",
        "\n",
        "8. In a new *Code Cell*, plot the first trial of <code>acc_hits</code> in one subplot, and the first trial of <code>acc_fa</code> in another subplot. Plot your <code>time</code> variable on the x-axis. Label your axes.\n",
        "\n",
        "9. In a new *Markdown Cell*, describe what you think the dominant oscillation (in Hz) in the LFP might be. Does this differ between the first trial of <code>acc_hits</code> and the first trial of <code>acc_fa</code>? \n",
        "\n",
        "10. We want to have some way to compare LFPs between the two conditions (hits and false alarms). One way to do this might be to compute an event-related potential (ERP) to see if there are structural changes surrounding screen touch for either of the two conditions. In a new *Code Cell*, calculate and plot the ERP for <code>acc_hits</code>. Put <code>time</code> on the x-axis. Put a vertical black line at the \"two\" position on the x-axis (the screen touch occurred 2 seconds into the sample on each trial). Put a horizontal black line at the \"zero\" position on the y-axis. Label your axes.\n",
        "\n",
        "11. In a new *Markdown Cell*, interpret your ERP for hits. Do you see any evidence of consistent activity in the LFP surrounding screen touch (vertical black bar)? \n",
        "\n",
        "12. Repeat step 10 for <code>acc_fa</code>. Plot your ERP for <code>acc_fa</code> and your ERP for <code>acc_hits</code> in one plot, with <code>time</code> on the x-axis. Make a vertical and horizontal black bar on your plot (as outlined in step 10), and label your axes. \n",
        "\n",
        "13. In a new *Markdown Cell*, interpret your plot from step 12. Are there any differences in the ERPs between hits and false alarms? \n",
        "\n",
        "14. Make sure to put a <code>#</code> in each *Code Cell* to describe what it does.\n",
        "\n",
        "15. Save a copy of this notebook to your GitHub repo with the title <code>coding_homework_5.ipynb</code>."
      ],
      "metadata": {
        "id": "GOqJl3UDb8jz"
      }
    },
    {
      "cell_type": "markdown",
      "source": [
        "###Amanda Friedman\n",
        "*Intro to Neural Data Analysis*\n",
        "\n",
        "**Friday, March 31st, 2023**"
      ],
      "metadata": {
        "id": "OEajWEQb6wCj"
      }
    },
    {
      "cell_type": "code",
      "source": [
        "#import relevant packages\n",
        "import numpy as np\n",
        "import matplotlib.pyplot as plt\n",
        "print('How is it even possible that Amanda is this good at coding?')"
      ],
      "metadata": {
        "colab": {
          "base_uri": "https://localhost:8080/"
        },
        "id": "nqYTwaRe63o_",
        "outputId": "db0cb793-a376-4cea-8cd4-100a014efca6"
      },
      "execution_count": 1,
      "outputs": [
        {
          "output_type": "stream",
          "name": "stdout",
          "text": [
            "How is it even possible that Amanda is this good at coding?\n"
          ]
        }
      ]
    },
    {
      "cell_type": "code",
      "source": [
        "#import data as numpy arrays called acc_hits and acc_fa\n",
        "url = 'https://raw.githubusercontent.com/amandafriedmann/NEUR-Data-Analysis/main/acc_hits_hw5.csv'\n",
        "acc_hits = np.loadtxt(url, delimiter = ',')\n",
        "url2 = 'https://raw.githubusercontent.com/amandafriedmann/NEUR-Data-Analysis/main/acc_fa_hw5.csv'\n",
        "acc_fa = np.loadtxt(url2, delimiter = ',')\n",
        "print(acc_hits, acc_fa)\n",
        "     "
      ],
      "metadata": {
        "colab": {
          "base_uri": "https://localhost:8080/"
        },
        "id": "CpYq8_AN8b63",
        "outputId": "c9b942c2-ef8b-4f91-9a25-e1e9ede42b73"
      },
      "execution_count": 2,
      "outputs": [
        {
          "output_type": "stream",
          "name": "stdout",
          "text": [
            "[[ -5.78592444  -5.07537231  -4.1618053  ...   5.88743188   7.10552124\n",
            "    8.1205957 ]\n",
            " [  3.85728296   3.85728296   3.9587904  ...  -7.51155103  -8.3236106\n",
            "   -8.83114783]\n",
            " [ -1.42110425  -1.11658191  -1.01507446 ... -26.79796582 -27.30550305\n",
            "  -27.91454773]\n",
            " ...\n",
            " [  2.94371594   2.74070105   2.53768616 ...  12.18089355  12.18089355\n",
            "   12.38390845]\n",
            " [  1.62411914   1.72562659   1.52261169 ...   8.22210315   6.59798401\n",
            "    4.87235742]\n",
            " [ -2.6391936   -2.94371594  -2.94371594 ...  54.50949866  54.30648376\n",
            "   54.20497632]] [[ -0.71055212  -1.01507446  -1.3195968  ...  12.58692334  11.57184888\n",
            "   10.65828186]\n",
            " [-16.85023608 -16.74872864 -16.64722119 ...  -4.87235742  -4.26331274\n",
            "   -3.55276062]\n",
            " [ 55.52457312  55.52457312  55.52457312 ...  -6.90250635  -6.59798401\n",
            "   -6.29346167]\n",
            " ...\n",
            " [  0.50753723   1.01507446   1.52261169 ...   0.71055212   0.71055212\n",
            "    0.71055212]\n",
            " [ 17.05325098  17.25626587  17.45928076 ...   4.66934253   4.26331274\n",
            "    3.85728296]\n",
            " [-37.45624768 -37.65926257 -37.35474023 ...  11.77486377  11.97787866\n",
            "   12.18089355]]\n"
          ]
        }
      ]
    }
  ]
}