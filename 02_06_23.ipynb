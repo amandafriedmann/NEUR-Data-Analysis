{
  "nbformat": 4,
  "nbformat_minor": 0,
  "metadata": {
    "colab": {
      "provenance": [],
      "include_colab_link": true
    },
    "kernelspec": {
      "name": "python3",
      "display_name": "Python 3"
    },
    "language_info": {
      "name": "python"
    }
  },
  "cells": [
    {
      "cell_type": "markdown",
      "metadata": {
        "id": "view-in-github",
        "colab_type": "text"
      },
      "source": [
        "<a href=\"https://colab.research.google.com/github/amandafriedmann/NEUR-Data-Analysis/blob/main/02_06_23.ipynb\" target=\"_parent\"><img src=\"https://colab.research.google.com/assets/colab-badge.svg\" alt=\"Open In Colab\"/></a>"
      ]
    },
    {
      "cell_type": "markdown",
      "source": [
        "# Numpy\n",
        "\n",
        "In this notebook, we'll encounter a package for scientific computing in Python: NumPy.\n",
        "\n",
        "**At the end of this notebook, you'll be able to:**\n",
        "* Install and import packages for Python\n",
        "* Create NumPy arrays\n",
        "* Execute methods & access attributes of arrays\n"
      ],
      "metadata": {
        "id": "iapHDgA-Zfds"
      }
    },
    {
      "cell_type": "markdown",
      "source": [
        "## Importing packages\n",
        "\n",
        "Before we can use numpy, we need to import it. We can also nickname modules when we import them.\n",
        "\n",
        "The convention is to import `numpy` as `np`."
      ],
      "metadata": {
        "id": "hxqjp7T-ZseN"
      }
    },
    {
      "cell_type": "code",
      "source": [
        "# Import packages\n",
        "import numpy as np\n",
        "\n",
        "# Use whos 'magic command' to see available modules\n",
        "%whos"
      ],
      "metadata": {
        "id": "jtsk5q6qZ5ZA",
        "outputId": "79e132d6-cb45-4dc0-9525-275a5868920d",
        "colab": {
          "base_uri": "https://localhost:8080/"
        }
      },
      "execution_count": 1,
      "outputs": [
        {
          "output_type": "stream",
          "name": "stdout",
          "text": [
            "Variable   Type      Data/Info\n",
            "------------------------------\n",
            "np         module    <module 'numpy' from '/us<...>kages/numpy/__init__.py'>\n"
          ]
        }
      ]
    },
    {
      "cell_type": "markdown",
      "source": [
        "## Numpy\n",
        "\n",
        "**Numpy** is the fundamental package for scientific computing with Python. It'll allow us to work with bigger datasets more efficiently."
      ],
      "metadata": {
        "id": "N_WgkzfbZ7fj"
      }
    },
    {
      "cell_type": "markdown",
      "source": [
        "### Creating `numpy` arrays\n",
        "\n",
        "A numpy **array** is a grid of values which are all the same type (they’re homogenous).\n",
        "\n",
        "We can create a numpy array in a few different ways:\n",
        "\n",
        "* from a Python list or tuples\n",
        "* by using functions that are dedicated to generating numpy arrays, such as `arange`, `linspace`, `empty`,`zeroes`, etc.\n",
        "* reading data from files"
      ],
      "metadata": {
        "id": "J_iRHDzBaEeI"
      }
    },
    {
      "cell_type": "code",
      "source": [
        "# Create a list\n",
        "lst = [1,2,3,4,5]\n",
        "\n",
        "# Make our list into an array\n",
        "my_vector = np.array(lst)\n",
        "print(type(my_vector))\n",
        "print(my_vector)"
      ],
      "metadata": {
        "id": "uV-A4FXXaQR5",
        "outputId": "effc0623-ea5b-4daa-8e37-9e270a2cb210",
        "colab": {
          "base_uri": "https://localhost:8080/"
        }
      },
      "execution_count": 2,
      "outputs": [
        {
          "output_type": "stream",
          "name": "stdout",
          "text": [
            "<class 'numpy.ndarray'>\n",
            "[1 2 3 4 5]\n"
          ]
        }
      ]
    },
    {
      "cell_type": "code",
      "source": [
        "# If we give numpy a list of lists, it will create a matrix\n",
        "my_matrix = np.array([lst,lst])\n",
        "print(my_matrix)"
      ],
      "metadata": {
        "id": "nVTnIRR-aUAO",
        "outputId": "bcf1b1b7-04c0-4c15-f414-cfc5ab4050c4",
        "colab": {
          "base_uri": "https://localhost:8080/"
        }
      },
      "execution_count": 18,
      "outputs": [
        {
          "output_type": "stream",
          "name": "stdout",
          "text": [
            "[[1 2 3 4 5]\n",
            " [1 2 3 4 5]]\n"
          ]
        }
      ]
    },
    {
      "cell_type": "markdown",
      "source": [
        "### Accessing attributes of numpy arrays\n",
        "\n",
        "We can test shape and size either by looking at the attribute of the array, or by using the `shape()` and `size()` functions.\n",
        "\n",
        "Other attributes that might be of interest are `ndim` and `dtype`."
      ],
      "metadata": {
        "id": "s995diXSadNU"
      }
    },
    {
      "cell_type": "code",
      "source": [
        "# Check the type of vector\n",
        "print(my_vector.dtype)\n",
        "\n",
        "# Check the dimensions of matrix\n",
        "print(my_matrix.ndim)\n",
        "print(my_matrix.shape)\n",
        "print(my_matrix.size)"
      ],
      "metadata": {
        "id": "3Xcjae58akAk",
        "outputId": "4ba5cf19-0ffe-42bf-f34d-94c5ca413096",
        "colab": {
          "base_uri": "https://localhost:8080/"
        }
      },
      "execution_count": 9,
      "outputs": [
        {
          "output_type": "stream",
          "name": "stdout",
          "text": [
            "int64\n",
            "2\n",
            "(2, 5)\n",
            "10\n"
          ]
        }
      ]
    },
    {
      "cell_type": "markdown",
      "source": [
        "Array data type is decided upon creation of the array.\n",
        "\n",
        "You can explicitly define the data type by using `dtype= ` when you use `np.array()`. You can set the dtype to be `int, float, complex, bool, object`, etc"
      ],
      "metadata": {
        "id": "kjgtllr3apFM"
      }
    },
    {
      "cell_type": "code",
      "source": [
        "# my_matrix.dtype \n",
        "\n",
        "my_complex_array = np.array([lst,lst],dtype='complex')\n",
        "my_complex_array.dtype"
      ],
      "metadata": {
        "id": "WOeFVN2RbMw9",
        "outputId": "f85c0148-85cd-4615-a776-73a5dc1becf1",
        "colab": {
          "base_uri": "https://localhost:8080/"
        }
      },
      "execution_count": 10,
      "outputs": [
        {
          "output_type": "execute_result",
          "data": {
            "text/plain": [
              "dtype('complex128')"
            ]
          },
          "metadata": {},
          "execution_count": 10
        }
      ]
    },
    {
      "cell_type": "markdown",
      "source": [
        "><b>Task:</b> Create an array of integers called `int_array` that is 2 rows x 3 columns. Access the shape and ndim attributes to confirm its size, and the dtype attribute to confirm that it is indeed an array of integers.\n",
        "\n"
      ],
      "metadata": {
        "id": "zrcEWv5HbUzU"
      }
    },
    {
      "cell_type": "code",
      "source": [
        "# Your code here\n",
        "lstnew= [8,2,5]\n",
        "lstnew2= [2,0,3]\n",
        "int_array= np.array([lstnew, lstnew2])\n",
        "print(int_array)\n",
        "print(int_array.ndim)\n",
        "print(int_array.shape)\n",
        "print(int_array.size)\n",
        "print(int_array.dtype)\n",
        "\n"
      ],
      "metadata": {
        "id": "tqDGv76eb41K",
        "outputId": "1409dd0c-de56-4793-b8e3-3b98f82ffde6",
        "colab": {
          "base_uri": "https://localhost:8080/"
        }
      },
      "execution_count": 15,
      "outputs": [
        {
          "output_type": "stream",
          "name": "stdout",
          "text": [
            "[[8 2 5]\n",
            " [2 0 3]]\n",
            "2\n",
            "(2, 3)\n",
            "6\n",
            "int64\n"
          ]
        }
      ]
    },
    {
      "cell_type": "markdown",
      "source": [
        "### Indexing & slicing arrays\n",
        "\n",
        "Indexing and slicing 1D arrays (vectors) is similar to indexing lists.\n",
        "\n",
        "You can index matrices using `[row,column]`. If you omit the column, it will give you the whole row.\n",
        "\n",
        "If you use `:` for either row or column, it will give you all of those values."
      ],
      "metadata": {
        "id": "62-m75Qxb7vn"
      }
    },
    {
      "cell_type": "code",
      "source": [
        "my_matrix[0,2]"
      ],
      "metadata": {
        "id": "tdpAQDhMcHp-",
        "outputId": "78b1de84-cff6-4f26-f433-29ad64752a82",
        "colab": {
          "base_uri": "https://localhost:8080/"
        }
      },
      "execution_count": 16,
      "outputs": [
        {
          "output_type": "execute_result",
          "data": {
            "text/plain": [
              "5"
            ]
          },
          "metadata": {},
          "execution_count": 16
        }
      ]
    },
    {
      "cell_type": "markdown",
      "source": [
        "**Booleans** are variables that store `True` or `False`. They are named after the British mathematician George Boole. He first formulated Boolean algebra, which are a set of rules for how to reason with and combine these values. This is the basis of all modern computer logic.\n",
        "\n",
        "We can also index arrays using Boolean operators or lists. When we use Booleans, we can think of this as filtering the array. For example:"
      ],
      "metadata": {
        "id": "LeDZUMIncMRx"
      }
    },
    {
      "cell_type": "code",
      "source": [
        "# Index with an operator\n",
        "bool_matrix = my_matrix[my_matrix>2]\n",
        "\n",
        "# Index with a list of coordinates\n",
        "list_matrix = my_matrix[[0,1],[1,3]]\n",
        "\n",
        "print(my_matrix)\n",
        "print(bool_matrix)\n",
        "print(list_matrix)"
      ],
      "metadata": {
        "id": "QDHN3Urdc1pg",
        "outputId": "701e6d2d-85b4-48cc-d6b2-05429d9968e7",
        "colab": {
          "base_uri": "https://localhost:8080/"
        }
      },
      "execution_count": 19,
      "outputs": [
        {
          "output_type": "stream",
          "name": "stdout",
          "text": [
            "[[1 2 3 4 5]\n",
            " [1 2 3 4 5]]\n",
            "[3 4 5 3 4 5]\n",
            "[2 4]\n"
          ]
        }
      ]
    },
    {
      "cell_type": "markdown",
      "source": [
        "><b>Task:</b> Create a variable called `my_boolean_matrix` that is equal to your `bool_matrix` variable, but with `dtype = 'bool'`. Print your `my_boolean_matrix` variable. What happened? \n",
        "\n",
        "\n"
      ],
      "metadata": {
        "id": "ZDIVVYyDgiRn"
      }
    },
    {
      "cell_type": "code",
      "source": [
        "# Your code here\n",
        "my_boolean_matrix=np.array([bool_matrix],dtype='bool')\n",
        "print(my_boolean_matrix)\n"
      ],
      "metadata": {
        "id": "nmMyXxMQg7yh",
        "outputId": "6ff369a6-826a-4284-c79c-9dd97b846c61",
        "colab": {
          "base_uri": "https://localhost:8080/"
        }
      },
      "execution_count": 22,
      "outputs": [
        {
          "output_type": "stream",
          "name": "stdout",
          "text": [
            "[[ True  True  True  True  True  True]]\n"
          ]
        }
      ]
    },
    {
      "cell_type": "markdown",
      "source": [
        "We can also change values in an array similar to how we would change values in a list. Run the code below, and then re-run the code with the second line un-commented."
      ],
      "metadata": {
        "id": "4eKoKHIXh8SL"
      }
    },
    {
      "cell_type": "code",
      "source": [
        "print(my_matrix)\n",
        "my_matrix[0] = 8\n",
        "\n",
        "my_matrix[0]"
      ],
      "metadata": {
        "id": "wRGpCVDDh94l",
        "outputId": "be0d3bab-06e5-4648-ee96-7c88a4fab0ca",
        "colab": {
          "base_uri": "https://localhost:8080/"
        }
      },
      "execution_count": 24,
      "outputs": [
        {
          "output_type": "stream",
          "name": "stdout",
          "text": [
            "[[1 2 3 4 5]\n",
            " [1 2 3 4 5]]\n"
          ]
        },
        {
          "output_type": "execute_result",
          "data": {
            "text/plain": [
              "array([8, 8, 8, 8, 8])"
            ]
          },
          "metadata": {},
          "execution_count": 24
        }
      ]
    },
    {
      "cell_type": "markdown",
      "source": [
        "### Benefits of using arrays\n",
        "\n",
        "In addition to being less clunky & a bit faster than lists of lists, arrays can do a lot of things that lists can't. For example, we can add and multiply them. Alternatively, we can use the `sum` method to sum across a specific axis."
      ],
      "metadata": {
        "id": "u1CRRW44I1gf"
      }
    },
    {
      "cell_type": "code",
      "source": [
        "sum_list = [1,3,5] + [3,5,7]\n",
        "sum_array = np.array([1,3,5]) + np.array([3,5,7])\n",
        "mult_array = np.array([1,3,5]) * np.array([3,5,7])\n",
        "\n",
        "print(sum_list)\n",
        "print(mult_array)"
      ],
      "metadata": {
        "id": "51IX6zCEJPU8",
        "outputId": "897fcf1c-bfed-487f-fc25-f6ce3b1d23b2",
        "colab": {
          "base_uri": "https://localhost:8080/"
        }
      },
      "execution_count": 25,
      "outputs": [
        {
          "output_type": "stream",
          "name": "stdout",
          "text": [
            "[1, 3, 5, 3, 5, 7]\n",
            "[ 3 15 35]\n"
          ]
        }
      ]
    },
    {
      "cell_type": "code",
      "source": [
        "this_array = np.array([[1,3,5],[3,5,7]])\n",
        "sum_rows = this_array.sum(axis=1)\n",
        "print(this_array)\n",
        "print(sum_rows)"
      ],
      "metadata": {
        "id": "LQ3hbUAuJW9K",
        "outputId": "fe1134a1-56eb-49c6-af7b-b1330916b17a",
        "colab": {
          "base_uri": "https://localhost:8080/"
        }
      },
      "execution_count": 26,
      "outputs": [
        {
          "output_type": "stream",
          "name": "stdout",
          "text": [
            "[[1 3 5]\n",
            " [3 5 7]]\n",
            "[ 9 15]\n"
          ]
        }
      ]
    },
    {
      "cell_type": "markdown",
      "source": [
        "### Numpy also includes some very useful array generating functions:\n",
        "\n",
        "* `arange`: like `range` but gives you a useful numpy array, instead of an interator, and can use more than just integers\n",
        "* `linspace` creates an array with given start and end points, and a desired number of points\n",
        "* `logspace` same as linspace, but in log.\n",
        "* `random` can create a random list \n",
        "* `concatenate` which can concatenate two arrays along an existing axis \n",
        "* `hstack` and `vstack` which can horizontally or vertically stack arrays\n",
        "\n",
        "Whenever we call these, we need to use whatever name we imported numpy as (here, `np`)."
      ],
      "metadata": {
        "id": "2sw57mQSJe0l"
      }
    },
    {
      "cell_type": "code",
      "source": [
        "# When using linspace, both end points are included!\n",
        "np.linspace(0,147,10)"
      ],
      "metadata": {
        "id": "el88GLZ7J3yz",
        "outputId": "5dd81fc5-e462-4d3e-c318-a6b938cb5be9",
        "colab": {
          "base_uri": "https://localhost:8080/"
        }
      },
      "execution_count": 27,
      "outputs": [
        {
          "output_type": "execute_result",
          "data": {
            "text/plain": [
              "array([  0.        ,  16.33333333,  32.66666667,  49.        ,\n",
              "        65.33333333,  81.66666667,  98.        , 114.33333333,\n",
              "       130.66666667, 147.        ])"
            ]
          },
          "metadata": {},
          "execution_count": 27
        }
      ]
    },
    {
      "cell_type": "markdown",
      "source": [
        ">**Task**: Create an array called `big_array` that has two rows. The first row should be a list of 10 numbers that are evenly spaced, and range from exactly 1 to 100. The second row should be a list of 10 numbers that begin at 0 and are exactly 10 apart (*hint*: use [np.arange](https://numpy.org/doc/stable/reference/generated/numpy.arange.html)). `big_array` should have a shape (2,10): two rows, and ten columns. Lastly, reassign the last value of each row in the array to be -100. "
      ],
      "metadata": {
        "id": "s1sN5N8iKFug"
      }
    },
    {
      "cell_type": "code",
      "source": [
        "# Your code here\n",
        "row1= np.linspace(1,100,10)\n",
        "row2= np.arange(0,100,10)\n",
        "big_array=np.array([row1,row2])\n",
        "print(big_array.shape)\n",
        "big_array[0,-1]=-100\n",
        "big_array[1,-1]=-100\n",
        "print(big_array)"
      ],
      "metadata": {
        "id": "zUiVMZmFKMX4",
        "outputId": "db27b16e-703e-4b13-ed8a-30bce6665401",
        "colab": {
          "base_uri": "https://localhost:8080/"
        }
      },
      "execution_count": 31,
      "outputs": [
        {
          "output_type": "stream",
          "name": "stdout",
          "text": [
            "(2, 10)\n",
            "[[   1.   12.   23.   34.   45.   56.   67.   78.   89. -100.]\n",
            " [   0.   10.   20.   30.   40.   50.   60.   70.   80. -100.]]\n"
          ]
        }
      ]
    }
  ]
}