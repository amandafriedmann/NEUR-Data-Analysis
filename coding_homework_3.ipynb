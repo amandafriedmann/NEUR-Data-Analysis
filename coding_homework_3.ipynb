{
  "nbformat": 4,
  "nbformat_minor": 0,
  "metadata": {
    "colab": {
      "provenance": [],
      "include_colab_link": true
    },
    "kernelspec": {
      "name": "python3",
      "display_name": "Python 3"
    },
    "language_info": {
      "name": "python"
    }
  },
  "cells": [
    {
      "cell_type": "markdown",
      "metadata": {
        "id": "view-in-github",
        "colab_type": "text"
      },
      "source": [
        "<a href=\"https://colab.research.google.com/github/amandafriedmann/NEUR-Data-Analysis/blob/main/coding_homework_3.ipynb\" target=\"_parent\"><img src=\"https://colab.research.google.com/assets/colab-badge.svg\" alt=\"Open In Colab\"/></a>"
      ]
    },
    {
      "cell_type": "markdown",
      "source": [
        "# Coding Homework #3\n",
        "\n",
        "**Instructions**\n",
        "\n",
        "1. Make a *Markdown Cell* that contains the following information:\n",
        "- Your name (small header)\n",
        "- The name of this class (italicized)\n",
        "- The date (bolded)\n",
        "\n",
        "2. Make a *Code Cell* that imports <code>numpy</code> as <code>np</code>, <code>matplotlib.pyplot</code> as <code>plt</code>, and <code>scipy.stats</code> as <code>stats</code>.\n",
        "\n",
        "3. Make a *Code Cell* that imports your <code>v_rest1.csv</code> and <code>v_rest2.csv</code> variables as <code>numpy</code> arrays called <code>v_rest1</code> and <code>v_rest2</code> respectively.\n",
        "\n",
        "4. Make a *Code Cell* that does the following:\n",
        "  \n",
        "  a. Finds the means of <code>v_rest1</code> and <code>v_rest2</code>.\n",
        "  \n",
        "  b. Performs a t-test to test the null hypothesis that the means of <code>v_rest1</code> and <code>v_rest2</code> come from different distributions.\n",
        "\n",
        "  c. Plots a histogram of <code>v_rest1</code> in one subplot, and a histogram of <code>v_rest2</code> in another subplot if the p-value of the t-test is > 0.05. You can make two subplots using the syntax <code>fig, ax = plt.subplots(1,1)</code>.\n",
        "\n",
        "  d. Labels the y-axis and x-axis of your histograms (recall that <code>ax.ylabel</code> and <code>ax.xlabel</code> are the methods that let you accomplish this).\n",
        "\n",
        "5. Make a *Code Cell* that defines a function called <code>vrestHist()</code>. This function should execute the code in step 4 when called. Remember to tell python that you want the function to show your plots when you call it!\n",
        "\n",
        "6. Make a *Code Cell* that calls <code>vrestHist()</code>.\n",
        "\n",
        "7. Make a *Code Cell* that does the following:\n",
        "\n",
        "    a. Loops through each column of <code>v_rest1</code> and <code>v_rest2</code> and makes a scatter plot with <code>v_rest1</code> on the x-axis and <code>v_rest2</code> on the y-axis. \n",
        "\n",
        "    b. Each iteration of your loop should plot a different point on the scatter plot. At the end of your loop, you should have only one scatter plot with number of data points equal to the length of <code>v_rest1</code> and <code>v_rest2</code>.\n",
        "\n",
        "    c. Your loop should plot a <font color = 'red'>red</font> dot if *both* values in <code>v_rest1</code> and <code>v_rest2</code> are greater than -60, a <font color = 'green'>green</font> dot if values in <code>v_rest1</code> are greater than -60, but values in <code>v_rest2</code> are less than -60, and a <font color = 'blue'>blue</font> dot if *both* values in <code>v_rest1</code> and <code>v_rest2</code> are less than -60. \n",
        "\n",
        "    d. Labels your y-axis and your x-axis (this code should be outside of your loop).\n",
        "\n",
        "8. Make a *Code Cell* that defines a function called <code>vrestScatter()</code>. This function should execute the code in step 7 when called. Remember to tell python that you want the function to show your plot when you call it!\n",
        "\n",
        "9. Save a copy of this notebook to your GitHub repo with the title \"coding_homework_3.ipynb\"."
      ],
      "metadata": {
        "id": "zbzMCJlMN3ph"
      }
    },
    {
      "cell_type": "markdown",
      "source": [
        "###Amanda Friedman\n",
        "*Intro to Neural Data Analysis*\n",
        "\n",
        "**Friday, February 24th, 2023**"
      ],
      "metadata": {
        "id": "c-f8aGtv0Acf"
      }
    },
    {
      "cell_type": "code",
      "source": [
        "#import numpy, matplotlib.pyplots and scipy.stats\n",
        "import numpy as np\n",
        "import matplotlib.pyplot as plt\n",
        "import scipy.stats as stats\n",
        "print('Amanda is absolutely incredible at coding :)')"
      ],
      "metadata": {
        "colab": {
          "base_uri": "https://localhost:8080/"
        },
        "id": "1o7M1vah0KtQ",
        "outputId": "9d0c71ff-6ebd-48f0-e3b0-a5698a4764a5"
      },
      "execution_count": 1,
      "outputs": [
        {
          "output_type": "stream",
          "name": "stdout",
          "text": [
            "Amanda is absolutely incredible at coding :)\n"
          ]
        }
      ]
    },
    {
      "cell_type": "code",
      "source": [
        "#import data as numpy arrays called v_rest1 and v_rest2\n",
        "url= 'https://raw.githubusercontent.com/amandafriedmann/NEUR-Data-Analysis/main/vrest_1.csv'\n",
        "v_rest1= np.loadtxt(url)\n",
        "url2= 'https://raw.githubusercontent.com/amandafriedmann/NEUR-Data-Analysis/main/vrest_2.csv'\n",
        "v_rest2= np.loadtxt(url2)\n",
        "print(v_rest1, v_rest2)"
      ],
      "metadata": {
        "colab": {
          "base_uri": "https://localhost:8080/"
        },
        "id": "c12WKDf50mBk",
        "outputId": "21e60b89-c7b6-48e9-8ac4-d246f0b5dd3b"
      },
      "execution_count": 2,
      "outputs": [
        {
          "output_type": "stream",
          "name": "stdout",
          "text": [
            "[-70.30732218 -62.83569145 -44.56119304 -68.18322086 -75.63896825\n",
            " -65.28569963 -70.8203392  -82.3870163  -63.57837963 -70.70399753\n",
            " -71.74948692 -77.70066918 -73.2310791 ] [-60.65075334 -67.39237366 -69.99437408 -75.48486259 -71.79600101\n",
            " -70.13537903 -69.55188073 -68.16392348 -75.08247757 -74.89617072\n",
            " -73.30303053 -72.55134721 -73.43569268]\n"
          ]
        }
      ]
    },
    {
      "cell_type": "code",
      "source": [
        "#find the means of v_rest1 and v_rest2\n",
        "np.mean(v_rest1)\n",
        "np.mean(v_rest2)\n",
        "print(np.mean(v_rest1))\n",
        "print(np.mean(v_rest2))\n",
        "\n",
        "#perform t test to either accept or reject null hypothesis\n",
        "stats.ttest_ind(v_rest1, v_rest2)\n",
        "print(stats.ttest_ind(v_rest1, v_rest2))\n",
        "\n",
        "#plot histogram of v_rest1 in one subplot and histogram of v_rest2 in another subplot\n",
        "fig, ax = plt.subplots(1,2)\n",
        "ax[0].plot(v_rest1)\n",
        "ax[0].set_xlabel('Counts')\n",
        "ax[0].set_ylabel('Membrane Voltage')\n",
        "ax[1].plot(v_rest2)\n",
        "ax[1].set_xlabel('Counts')\n",
        "ax[1].set_ylabel('Membrane Voltage')\n",
        "\n",
        "plt.show()"
      ],
      "metadata": {
        "colab": {
          "base_uri": "https://localhost:8080/",
          "height": 333
        },
        "id": "QPW7w8Xx0see",
        "outputId": "84689b01-048c-42e0-dbcd-e1e9d0acff05"
      },
      "execution_count": 13,
      "outputs": [
        {
          "output_type": "stream",
          "name": "stdout",
          "text": [
            "-68.99869717461539\n",
            "-70.95678974076924\n",
            "Ttest_indResult(statistic=0.7031573032810141, pvalue=0.48872330636540495)\n"
          ]
        },
        {
          "output_type": "display_data",
          "data": {
            "text/plain": [
              "<Figure size 432x288 with 2 Axes>"
            ],
            "image/png": "[encoded data removed]"
          },
          "metadata": {
            "needs_background": "light"
          }
        }
      ]
    }
  ]
}