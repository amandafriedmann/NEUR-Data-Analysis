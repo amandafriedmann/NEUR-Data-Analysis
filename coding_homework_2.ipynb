{
  "nbformat": 4,
  "nbformat_minor": 0,
  "metadata": {
    "colab": {
      "provenance": [],
      "include_colab_link": true
    },
    "kernelspec": {
      "name": "python3",
      "display_name": "Python 3"
    },
    "language_info": {
      "name": "python"
    }
  },
  "cells": [
    {
      "cell_type": "markdown",
      "metadata": {
        "id": "view-in-github",
        "colab_type": "text"
      },
      "source": [
        "<a href=\"https://colab.research.google.com/github/amandafriedmann/NEUR-Data-Analysis/blob/main/coding_homework_2.ipynb\" target=\"_parent\"><img src=\"https://colab.research.google.com/assets/colab-badge.svg\" alt=\"Open In Colab\"/></a>"
      ]
    },
    {
      "cell_type": "markdown",
      "source": [
        "# Coding Homework #2\n",
        "\n",
        "**Instructions:**\n",
        "\n",
        "1. Make a *Markdown Cell* that contains the following information:\n",
        "- Your name (small header)\n",
        "- The name of this class (italicized)\n",
        "- The date (bolded)\n",
        "\n",
        "2. Make a *Code Cell* that imports <code>numpy</code> as <code>np</code>, <code>matplotlib.pyplot</code> as <code>plt</code>, <code>statistics</code> as <code>st</code>.\n",
        "\n",
        "3. Make a *Code Cell* that imports your <code>v_rest1.csv</code> and <code>v_rest2.csv</code> files as <code>numpy</code> arrays called <code>v_rest1</code> and <code>v_rest2</code> respectively. You're used to doing this with the <code>pd.read_csv</code> function for <code>pandas</code>, but can accomplish the same thing using the <code>np.loadtxt</code> function for <code>numpy</code>.\n",
        "\n",
        "4. Make a *Code Cell* that concatenates <code>v_rest1</code> and <code>v_rest2</code> into a matrix with 2 rows and 13 columns named <code>v_rest</code>.\n",
        "\n",
        "5. Make a *Code Cell* that prints the <code>size</code> of <code>v_rest</code>.\n",
        "\n",
        "6. Make a *Code Cell* that returns the first row of <code>v_rest</code>.\n",
        "\n",
        "7. Make a *Code Cell* that returns the sum of the values in the third column of <code>v_rest</code>. You can accomplish this by using <code>v_rest[].sum()</code>, with your index inside of the brackets. As an example, if I wanted to return the sum of the first row of <code>v_rest</code>, I could use <code>v_rest[0].sum()</code> to get my answer.\n",
        "\n",
        "8. Make a *Code Cell* that returns the second-to-last value in the second row of <code>v_rest</code> (use negative indexing for the column value).\n",
        "\n",
        "9. Create a *Code Cell* that makes a histogram of the values in the first row of <code>v_rest</code> (you can do this by using the <code>plt.hist()</code> function). Label your axes.\n",
        "\n",
        "10. Create a *Code Cell* that takes the mean of the values in the first row of <code>v_rest</code>, and assigns the mean to a variable called <code>v_rest_mean_1</code>. Do the same thing for the second row of <code>v_rest</code>, and assign the mean value of the second row to a variable called <code>v_rest_mean_2</code>. You can get the means by using the <code>st.mean()</code> function (remember to put what you want the mean *of* inside the parentheses of the function).\n",
        "\n",
        "11. Create a *Markdown Cell* that describes the difference in means between the two rows. Which one is bigger?\n",
        "\n",
        "12. How can we test whether the difference in means is *meaningful* (statistically significant)? When we're comparing two means, we can use a t-test (assuming the data are normally distributed). To use a t-test on our data, we will first need to import the <code>scipy</code> package. Create a new *Code Cell* that runs the following:\n",
        "\n",
        "<code>\n",
        "import scipy.stats as stats\n",
        "</code>\n",
        "\n",
        "13. Now, we can perform a t-test on the two rows of <code>v_rest</code>. To do this, create a new *Code Cell* that uses the <code>stats.ttest_ind()</code> function - for example:\n",
        "\n",
        "<code>\n",
        "stats.ttest_ind(row1, row2)\n",
        "</code>\n",
        "\n",
        "Replace <code>row1</code> and <code>row2</code> in this case with the first and second rows, respectively, of <code>v_rest</code>.\n",
        "\n",
        "14. Make a *Markdown Cell* that describes the results of your t-test. You should have <code>statistic</code> variable and a <code>pvalue</code> variable. The way to interpret your p-value is as a probability - specifically, the probability that the mean of one distribution could be found in the second distribution. Typically, results are considered to be \"statistically significant\" if the probability is lower than 5% - or 0.05. What is your p-value? Based on this p-value, do you think it is likely that the means are significantly different, or do you think it is likely that they are not?\n",
        "\n",
        "15. Make sure to add at least one line with a <code>#</code> in front of it to each *Code Cell* to describe what each cell does.\n",
        "\n",
        "16. Save a copy of this notebook to your GitHub repo with the title \"coding_homework_2.ipynb\"."
      ],
      "metadata": {
        "id": "CXEcCBSA_prs"
      }
    },
    {
      "cell_type": "markdown",
      "source": [
        "###Amanda Friedman\n",
        "*Intro to Neural Data Analysis*\n",
        "**Friday, February 24th, 2023**"
      ],
      "metadata": {
        "id": "YPGPHFatRG5s"
      }
    },
    {
      "cell_type": "code",
      "source": [
        "#import numpy as np, matplotlib.pyplot as plt, and statistics as st\n",
        "import numpy as np\n",
        "import matplotlib.pyplot as plt\n",
        "import statistics as st\n",
        "print('completed!')"
      ],
      "metadata": {
        "id": "FODQuCnORkny",
        "outputId": "e66c27e9-0f29-49e6-d3a8-5f14903d57ea",
        "colab": {
          "base_uri": "https://localhost:8080/"
        }
      },
      "execution_count": 1,
      "outputs": [
        {
          "output_type": "stream",
          "name": "stdout",
          "text": [
            "completed!\n"
          ]
        }
      ]
    },
    {
      "cell_type": "code",
      "source": [
        "#import data as numpy arrays called v_rest1 and v_rest2\n",
        "url= 'https://raw.githubusercontent.com/amandafriedmann/NEUR-Data-Analysis/main/vrest_1.csv'\n",
        "v_rest1= np.loadtxt(url)\n",
        "url2= 'https://raw.githubusercontent.com/amandafriedmann/NEUR-Data-Analysis/main/vrest_2.csv'\n",
        "v_rest2= np.loadtxt(url2)\n",
        "print(v_rest1, v_rest2)"
      ],
      "metadata": {
        "id": "5k0QCFzHgkHF",
        "outputId": "9221bef9-accc-46c1-d768-2db4ef317a69",
        "colab": {
          "base_uri": "https://localhost:8080/"
        }
      },
      "execution_count": 2,
      "outputs": [
        {
          "output_type": "stream",
          "name": "stdout",
          "text": [
            "[-70.30732218 -62.83569145 -44.56119304 -68.18322086 -75.63896825\n",
            " -65.28569963 -70.8203392  -82.3870163  -63.57837963 -70.70399753\n",
            " -71.74948692 -77.70066918 -73.2310791 ] [-60.65075334 -67.39237366 -69.99437408 -75.48486259 -71.79600101\n",
            " -70.13537903 -69.55188073 -68.16392348 -75.08247757 -74.89617072\n",
            " -73.30303053 -72.55134721 -73.43569268]\n"
          ]
        }
      ]
    },
    {
      "cell_type": "code",
      "source": [
        "#concatenate v_rest1 and v_rest2 into matrix called v_rest\n",
        "v_rest= np.array([v_rest1, v_rest2])\n",
        "print(v_rest)"
      ],
      "metadata": {
        "id": "h4h2x9UJynaV",
        "outputId": "f4d67675-b813-4db2-8272-81f5b438bcc1",
        "colab": {
          "base_uri": "https://localhost:8080/"
        }
      },
      "execution_count": 3,
      "outputs": [
        {
          "output_type": "stream",
          "name": "stdout",
          "text": [
            "[[-70.30732218 -62.83569145 -44.56119304 -68.18322086 -75.63896825\n",
            "  -65.28569963 -70.8203392  -82.3870163  -63.57837963 -70.70399753\n",
            "  -71.74948692 -77.70066918 -73.2310791 ]\n",
            " [-60.65075334 -67.39237366 -69.99437408 -75.48486259 -71.79600101\n",
            "  -70.13537903 -69.55188073 -68.16392348 -75.08247757 -74.89617072\n",
            "  -73.30303053 -72.55134721 -73.43569268]]\n"
          ]
        }
      ]
    },
    {
      "cell_type": "code",
      "source": [
        "#look at size of v_rest\n",
        "print(v_rest.size)"
      ],
      "metadata": {
        "id": "_rPCqEmF1S3z",
        "outputId": "86aca67b-3e6b-4a8d-ad32-046464782912",
        "colab": {
          "base_uri": "https://localhost:8080/"
        }
      },
      "execution_count": 4,
      "outputs": [
        {
          "output_type": "stream",
          "name": "stdout",
          "text": [
            "26\n"
          ]
        }
      ]
    },
    {
      "cell_type": "code",
      "source": [
        "#print first row of v_rest\n",
        "print(v_rest[0,0])"
      ],
      "metadata": {
        "id": "LjlWsnmk146K",
        "outputId": "b5c34d72-cef2-4cbe-a93d-c74925162ca2",
        "colab": {
          "base_uri": "https://localhost:8080/"
        }
      },
      "execution_count": 5,
      "outputs": [
        {
          "output_type": "stream",
          "name": "stdout",
          "text": [
            "-70.30732218\n"
          ]
        }
      ]
    },
    {
      "cell_type": "code",
      "source": [
        "#print the sum of the values in the third column\n",
        "v_rest[:,2].sum()"
      ],
      "metadata": {
        "id": "oCSoYJx92p-x",
        "outputId": "98bebabf-55c5-4bad-c64b-e3372eb4284b",
        "colab": {
          "base_uri": "https://localhost:8080/"
        }
      },
      "execution_count": 6,
      "outputs": [
        {
          "output_type": "execute_result",
          "data": {
            "text/plain": [
              "-114.55556712"
            ]
          },
          "metadata": {},
          "execution_count": 6
        }
      ]
    },
    {
      "cell_type": "code",
      "source": [
        "#print second to last value of v_rest\n",
        "print(v_rest[1,-2])"
      ],
      "metadata": {
        "id": "lOG3MqSzJWMa",
        "outputId": "7ee2175c-20de-498c-8986-756f4534b141",
        "colab": {
          "base_uri": "https://localhost:8080/"
        }
      },
      "execution_count": 8,
      "outputs": [
        {
          "output_type": "stream",
          "name": "stdout",
          "text": [
            "-72.55134721\n"
          ]
        }
      ]
    },
    {
      "cell_type": "code",
      "source": [
        "#make a histogram of the values in the first row with labeled axes\n",
        "plt.hist(v_rest[0,:])\n",
        "plt.xlabel('Resting Membrane Potential (mV)')\n",
        "plt.ylabel('Frequency')"
      ],
      "metadata": {
        "id": "uooKcjZ0J-hH",
        "outputId": "322cfc52-f40b-4649-da46-52ddbd7bbbfe",
        "colab": {
          "base_uri": "https://localhost:8080/",
          "height": 296
        }
      },
      "execution_count": 10,
      "outputs": [
        {
          "output_type": "execute_result",
          "data": {
            "text/plain": [
              "Text(0, 0.5, 'Frequency')"
            ]
          },
          "metadata": {},
          "execution_count": 10
        },
        {
          "output_type": "display_data",
          "data": {
            "text/plain": [
              "<Figure size 432x288 with 1 Axes>"
            ],
            "image/png": "[encoded data removed]"
          },
          "metadata": {
            "needs_background": "light"
          }
        }
      ]
    },
    {
      "cell_type": "code",
      "source": [
        "#get means of each row and assign them to variables v_rest_mean_1 and v_rest_mean_2\n",
        "v_rest_mean_1= st.mean(v_rest[0,:])\n",
        "v_rest_mean_2= st.mean(v_rest[1,:])\n",
        "print(v_rest_mean_1)\n",
        "print(v_rest_mean_2)"
      ],
      "metadata": {
        "id": "IQMXHrDiKToM",
        "outputId": "d2cab6fc-a78e-4e6b-e7e7-25ad1c28565d",
        "colab": {
          "base_uri": "https://localhost:8080/"
        }
      },
      "execution_count": 12,
      "outputs": [
        {
          "output_type": "stream",
          "name": "stdout",
          "text": [
            "-68.99869717461539\n",
            "-70.95678974076922\n"
          ]
        }
      ]
    },
    {
      "cell_type": "markdown",
      "source": [
        "#Difference in Means\n",
        "While the difference between the two rows isn't very large, still the mean of row 2 is about 2 mV less than that of row 1, which means that the data from row 2 have a lower resting membrane potential while the data from row 1 has a higher resting membrane potential overall. "
      ],
      "metadata": {
        "id": "BfYDiKvXL_dr"
      }
    },
    {
      "cell_type": "code",
      "source": [
        "#run code cell to import package for statistical analysis\n",
        "import scipy.stats as stats\n",
        "print('yay statistics!')"
      ],
      "metadata": {
        "id": "Jtcn9VcUM9EJ",
        "outputId": "72d61fc0-fe27-4b5a-b740-2a8c12e5ba1f",
        "colab": {
          "base_uri": "https://localhost:8080/"
        }
      },
      "execution_count": 15,
      "outputs": [
        {
          "output_type": "stream",
          "name": "stdout",
          "text": [
            "yay statistics!\n"
          ]
        }
      ]
    },
    {
      "cell_type": "code",
      "source": [
        "#perform a t-test on the data from both rows of v_rest\n",
        "stats.ttest_ind(v_rest[0,:],v_rest[1,:])"
      ],
      "metadata": {
        "id": "_p9eBnk-NHCa",
        "outputId": "ab61b423-c8fc-43e7-de12-dc651557c99b",
        "colab": {
          "base_uri": "https://localhost:8080/"
        }
      },
      "execution_count": 21,
      "outputs": [
        {
          "output_type": "execute_result",
          "data": {
            "text/plain": [
              "Ttest_indResult(statistic=0.7031573032810141, pvalue=0.48872330636540495)"
            ]
          },
          "metadata": {},
          "execution_count": 21
        }
      ]
    },
    {
      "cell_type": "markdown",
      "source": [
        "#T-test results\n",
        "Based on our p value of 0.49, we can conclude that there is a statistically significant difference between these two membrane voltage means. A p value of 0.49 means that there is a less than 5% chance that these means would be different due to random error/chance alone, so there is likely a real difference between the two data sets. "
      ],
      "metadata": {
        "id": "qIXneWD9OYUL"
      }
    }
  ]
}