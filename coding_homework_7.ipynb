{
  "nbformat": 4,
  "nbformat_minor": 0,
  "metadata": {
    "colab": {
      "provenance": [],
      "include_colab_link": true
    },
    "kernelspec": {
      "name": "python3",
      "display_name": "Python 3"
    },
    "language_info": {
      "name": "python"
    }
  },
  "cells": [
    {
      "cell_type": "markdown",
      "metadata": {
        "id": "view-in-github",
        "colab_type": "text"
      },
      "source": [
        "<a href=\"https://colab.research.google.com/github/amandafriedmann/NEUR-Data-Analysis/blob/main/coding_homework_7.ipynb\" target=\"_parent\"><img src=\"https://colab.research.google.com/assets/colab-badge.svg\" alt=\"Open In Colab\"/></a>"
      ]
    },
    {
      "cell_type": "markdown",
      "source": [
        "# Coding Homework #7\n",
        "\n",
        "**Instructions**\n",
        "\n",
        "1. Make a *Markdown Cell* that contains the following information:\n",
        "- Your name (small header)\n",
        "- The name of this class (italicized)\n",
        "- The date (bolded)\n",
        "\n",
        "2. Create a *Code Cell* that imports relevant modules - specifically, <code>numpy as np</code>, and <code>matplotlib.pyplot as plt</code>.\n",
        "\n",
        "3. For this assignment, you will be working with the <code>spikes_left_trial1.csv</code>, <code>spikes_right_trial1.csv</code>, <code>spikes_left_trial2</code>, and <code>spikes_right_trial2</code> files in our shared Google Drive folder. Create a *Code Cell* that imports these files as <code>numpy</code> arrays called <code>spikes_left_trial1</code>, <code>spikes_right_trial1</code>, <code>spikes_left_trial2</code>, and <code>spikes_right_trial2</code>, respectively. To do this, you should upload each file to your personal GitHub repo.\n",
        "\n",
        "4. Create a *Code Cell* that prints the <code>length</code> of each array.\n",
        "\n",
        "5. These data contain timestamp values for action potentials recorded from one neuron in the rat prefrontal cortex (PFC). Action potentials were recorded from tetrodes while the rat performed a task designed to test working memory - the **delayed alternation task**. During this task, rats were trained to go up the central stem of a _figure 8_ maze, and turn either left or right. Rewards (chocolate sprinkles) were placed at the end of the goal arm (the arm the rat went up after it made its turn at the end of the stem). The rat received a reward if it alternated between the two goal arms from trial to trial. In other words, the rat learned to go *left* on trial 1, and then *right* on trial 2, *left* on trial 3, etc. Between trials, the rat waited on a pedestal at the base of the maze for 30 seconds. This waiting period tested the rat's working memory because it had to keep in mind where it was going to go (left or right) when the 30 second waiting period was up. The spike timestamps in the four arrays you imported were from this 30 second waiting period. Specifically, <code>spikes_left_trial1</code> is from the waiting period before the first *left turn* trial (i.e., the rat turned left after the waiting period was up), and <code>spikes_right_trial1</code> is from the waiting period before the first *right turn* trial (i.e., the rat turned right after the waiting period was up). The <code>spikes_left_trial2</code> and <code>spikes_right_trial2</code> arrays are the same, but for the second left and right turn trials. We are interested to know whether the firing rate of this cell during the waiting period might predict which direction the rat turns on the upcoming trial.\n",
        "\n",
        "6. In a new *Code Cell*, write an expression to determine the firing rate of this neuron during each trial (first and second left turn trials, first and second right turn trials).\n",
        "\n",
        "7. In a new *Markdown Cell*, interpret these results - do you think this neuron fires more before left turn trials, or right turn trials?\n",
        "\n",
        "8. In a new *Code Cell*, make two subplots, and plot the spike train data from trial 1 in your first subplot, and the spike train data from trial 2 in your second subplot. You should have dots that correspond to action potentials in two rows (one for left turn, one for right turn) in each subplot. Label your axes. \n",
        "\n",
        "9. In a new *Markdown Cell*, interpret the graph from step 8. Does this neuron seem more \"bursty\", or more regular-firing, during left or right turn trials? \n",
        "\n",
        "10. In a new *Code Cell*, calculate inter-spike interval (ISI) arrays for each of your four spike arrays using the <code>np.diff()</code> function. Make sure to create a variable name for each ISI array.\n",
        "\n",
        "11. In a new *Code Cell*, make four histograms - one for each of your four ISI arrays. Set the bins for your histograms to start at time 0, and end at time 2 s, with a bin size equal to 0.01 s. Label your axes.\n",
        "\n",
        "12. In a new *Markdown Cell*, interpret your histograms. Does this neuron tend to fire in \"bursts\"? Does it have higher \"burstiness\" during left or right turn trials?\n",
        "\n",
        "13. In a new *Code Cell*, calculate the firing rate across time for each of your four arrays (trial 1 left-turn, trial 1 right-turn, trial 2 left-turn, and trial 2 right-turn). Set your time bins equal to start at 0 s, end at 30 s (the length of the waiting period), with a bin size equal to 1 s. Create two subplots, and plot the firing rate over time for each trial in each of the two subplots. For example, your first subplot should have the firing rate across time for trial 1 left-turn, and trial 1 right-turn, and your second subplot should have the firing rate across time for trial 2 left-turn, and trial 2 right-turn. Make the line for right-turn trials blue, and the line for left-turn trials red. Label your axes.\n",
        "\n",
        "14. In a new *Markdown Cell*, interpret your graph from step 13. Does the firing rate between left and right turn trials differ at specific timepoints during the 30 s waiting period? Is the pattern different for trial 1 and trial 2? \n",
        "\n",
        "15. Make sure to put a <code>#</code> in each *Code Cell* to describe what it does.\n",
        "\n",
        "16. Save a copy of this notebook to your GitHub repo with the title <code>coding_homework_7.ipynb</code>."
      ],
      "metadata": {
        "id": "8PeYpSUQiq6c"
      }
    },
    {
      "cell_type": "markdown",
      "source": [
        "###Amanda Friedman\n",
        "*Intro to Neural Data Analysis*\n",
        "\n",
        "**Friday, April 14th, 2023**"
      ],
      "metadata": {
        "id": "I7ruaJ9bUMlt"
      }
    },
    {
      "cell_type": "code",
      "source": [
        "#import relevant packages\n",
        "import numpy as np\n",
        "import matplotlib.pyplot as plt\n",
        "print('What would I be doing if not coding?')"
      ],
      "metadata": {
        "colab": {
          "base_uri": "https://localhost:8080/"
        },
        "id": "Dd4blM4kUVb0",
        "outputId": "3a245489-4acd-4731-b217-824a6689902a"
      },
      "execution_count": 1,
      "outputs": [
        {
          "output_type": "stream",
          "name": "stdout",
          "text": [
            "What would I be doing if not coding?\n"
          ]
        }
      ]
    },
    {
      "cell_type": "code",
      "source": [
        "#import files to make 4 numpy arrays\n",
        "url = 'https://raw.githubusercontent.com/amandafriedmann/NEUR-Data-Analysis/main/spikes_right_trial1.csv'\n",
        "spikes_right_trial1 = np.loadtxt(url, delimiter = ',')\n",
        "url2 = 'https://raw.githubusercontent.com/amandafriedmann/NEUR-Data-Analysis/main/spikes_right_trial2.csv'\n",
        "spikes_right_trial2 = np.loadtxt(url2, delimiter = ',')\n",
        "url3 = 'https://raw.githubusercontent.com/amandafriedmann/NEUR-Data-Analysis/main/spikes_left_trial1.csv'\n",
        "spikes_left_trial1 = np.loadtxt(url3, delimiter = ',')\n",
        "url4 = 'https://raw.githubusercontent.com/amandafriedmann/NEUR-Data-Analysis/main/spikes_left_trial2.csv'\n",
        "spikes_left_trial2 = np.loadtxt(url4, delimiter = ',')"
      ],
      "metadata": {
        "id": "nymauqfBVWo9"
      },
      "execution_count": 2,
      "outputs": []
    },
    {
      "cell_type": "code",
      "source": [
        "#print the length of each array\n",
        "print(len(spikes_right_trial1))\n",
        "print(len(spikes_right_trial2))\n",
        "print(len(spikes_left_trial1))\n",
        "print(len(spikes_left_trial2))"
      ],
      "metadata": {
        "colab": {
          "base_uri": "https://localhost:8080/"
        },
        "id": "uAlFCtSaWUB4",
        "outputId": "b8e7d3c4-92be-4e26-c368-e93dd06c421a"
      },
      "execution_count": 3,
      "outputs": [
        {
          "output_type": "stream",
          "name": "stdout",
          "text": [
            "45\n",
            "69\n",
            "65\n",
            "53\n"
          ]
        }
      ]
    },
    {
      "cell_type": "code",
      "source": [
        "#find the firing rate for each variable\n",
        "firingrate_righttrial1 = len(spikes_right_trial1)/30\n",
        "firingrate_righttrial2 = len(spikes_right_trial2)/30\n",
        "firingrate_lefttrial1 = len(spikes_left_trial1)/30\n",
        "firingrate_lefttrial2 = len(spikes_left_trial2)/30\n",
        "print(firingrate_righttrial1)\n",
        "print(firingrate_righttrial2)\n",
        "print(firingrate_lefttrial1)\n",
        "print(firingrate_lefttrial2)"
      ],
      "metadata": {
        "colab": {
          "base_uri": "https://localhost:8080/"
        },
        "id": "chtsV0D7UTwJ",
        "outputId": "3b6fd2eb-f5c7-4d05-e037-ec072bf20dab"
      },
      "execution_count": 4,
      "outputs": [
        {
          "output_type": "stream",
          "name": "stdout",
          "text": [
            "1.5\n",
            "2.3\n",
            "2.1666666666666665\n",
            "1.7666666666666666\n"
          ]
        }
      ]
    },
    {
      "cell_type": "markdown",
      "source": [
        "**Firing Rate Interpretation**\n",
        "\n",
        "Based on these firing rates, it seems like there isn't a very large difference between the firing rate for right versus left turns, but the neuron may fire slightly more for left turns than right turns since the first trial showed a higher firing rate for right than left, and for the right turn a firing rate of 1.5 was seen which is the lowest out of all of the values. "
      ],
      "metadata": {
        "id": "Z1JDaF6xqWXN"
      }
    },
    {
      "cell_type": "code",
      "source": [
        "#make a graph with the first trials in one subplot, and the second trials in the other subplot\n",
        "\n",
        "fig, ax = plt.subplots(1,2,figsize=(15,5))\n",
        "ax[0].plot(spikes_right_trial1,  np.ones_like(spikes_right_trial1), '.', spikes_left_trial1, 1.5 * np.ones_like(spikes_left_trial1), '.')\n",
        "ax[1].plot(spikes_right_trial2,  np.ones_like(spikes_right_trial2), '.', spikes_left_trial2, 1.5 * np.ones_like(spikes_left_trial2), '.')\n",
        "plt.xlim([0, 30]) \n",
        "ax[0].set_ylim([0, 3])\n",
        "ax[1].set_ylim([0, 3])\n",
        "plt.yticks([])  \n",
        "ax[0].set_xlabel('time(s)')\n",
        "ax[1].set_xlabel('time(s)')\n",
        "ax[0].set_title('Trial 1')\n",
        "ax[1].set_title('Trial 2')\n",
        "plt.show()\n",
        "     \n",
        "\n",
        "     "
      ],
      "metadata": {
        "colab": {
          "base_uri": "https://localhost:8080/",
          "height": 430
        },
        "id": "ZooQA_NYrGpA",
        "outputId": "c4f0f4eb-b61b-4f10-ef50-a74eebe07d6b"
      },
      "execution_count": 29,
      "outputs": [
        {
          "output_type": "display_data",
          "data": {
            "text/plain": [
              "<Figure size 1500x500 with 2 Axes>"
            ],
            "image/png": "[encoded data removed]"
          },
          "metadata": {}
        }
      ]
    },
    {
      "cell_type": "markdown",
      "source": [
        "**Graph Interpretation**\n",
        "\n",
        "In this graph, you can see how \n"
      ],
      "metadata": {
        "id": "07iKGw0V8uIB"
      }
    }
  ]
}