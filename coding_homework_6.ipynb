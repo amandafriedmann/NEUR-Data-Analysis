{
  "nbformat": 4,
  "nbformat_minor": 0,
  "metadata": {
    "colab": {
      "provenance": [],
      "include_colab_link": true
    },
    "kernelspec": {
      "name": "python3",
      "display_name": "Python 3"
    },
    "language_info": {
      "name": "python"
    }
  },
  "cells": [
    {
      "cell_type": "markdown",
      "metadata": {
        "id": "view-in-github",
        "colab_type": "text"
      },
      "source": [
        "<a href=\"https://colab.research.google.com/github/amandafriedmann/NEUR-Data-Analysis/blob/main/coding_homework_6.ipynb\" target=\"_parent\"><img src=\"https://colab.research.google.com/assets/colab-badge.svg\" alt=\"Open In Colab\"/></a>"
      ]
    },
    {
      "cell_type": "markdown",
      "source": [
        "# Coding Homework #6\n",
        "\n",
        "**Instructions**\n",
        "\n",
        "1. Make a *Markdown Cell* that contains the following information:\n",
        "- Your name (small header)\n",
        "- The name of this class (italicized)\n",
        "- The date (bolded)\n",
        "\n",
        "2. Create a *Code Cell* that imports relevant modules - specifically, <code>numpy as np</code>, and <code>matplotlib.pyplot as plt</code>.\n",
        "\n",
        "3. For this assignment, you will be working with the <code>acc_hits_hw6.csv</code>, <code>acc_fa_hw6.csv</code>, <code>lc_hits_hw6.csv</code>, and <code>lc_fa_hw6.csv</code> files in our shared Google Drive folder. Create a *Code Cell* that imports these files as <code>numpy</code> arrays called <code>acc_hits</code>, <code>acc_fa</code>, <code>lc_hits</code>, and <code>lc_fa</code>, respectively. To do this, you should upload each file to your personal GitHub repo.\n",
        "\n",
        "4. Create a *Code Cell* that prints the <code>shape</code> of each array.\n",
        "\n",
        "5. Both your <code>acc_hits</code> and <code>acc_fa</code> arrays consist of LFP data recorded from the mouse anterior cingulate cortex, and both your <code>lc_hits</code> and <code>lc_fa</code> arrays consist of LFP data simultaneously recorded from the mouse locus coeruleus (an area in the brainstem with neurons that produce the neurotransmitter norepinephrine). Rows of these arrays correspond to separate trials, and columns correspond to samples (timepoints). Similarly to last week, the task that the mouse was performing is called the **continuous performance test**. This test measures sustained attention. Specifically, the mouse is shaped to respond to a stimulus on a touchscreen. The mouse is rewarded (receives some strawberry milkshake) when it responds to one type of stimulus. This stimulus is called the S+ (it usually looks like horizontal or vertical black and white bars). When the mouse responds to this stimulus, we call that response a **hit**. Your <code>acc_hits</code> and <code>lc_hits</code> variables contain LFP surrounding these hits. In contrast, when the mouse is presented with another stimulus (the S-, which usually looks like a snowflake), it is not supposed to respond. When it does respond, we call that a **false alarm**. Your <code>acc_fa</code> and <code>lc_fa</code> variables contain LFP surrounding these false alarms. So, you have four arrays - two arrays with LFP recorded during correct choices (hits), and two arrays with LFP recorded during incorrect choices (false alarms).\n",
        "\n",
        "6. In a new *Code Cell*, create variable called <code>time</code> that has the same length as your four arrays, with equally spaced values between \"zero\" and \"four\" (the length of each trial, in seconds).\n",
        "\n",
        "7. In a new *Code Cell*, create an expression to determine the sampling rate of the data using the knowledge that you have 8001 samples, and the total length of each sample is 4 seconds.\n",
        "\n",
        "8. In a new *Code Cell*, plot the first trial of <code>acc_hits</code> in <font color = 'red'>red</font>, and the first trial of <code>lc_hits</code> in the same plot in <font color = 'blue'>blue</font> in one subplot. In a second subplot, plot the first trial of <code>acc_fa</code> in <font color = 'red'>red</font>, and the first trial of <code>lc_fa</code> in <font color = 'blue'>blue</font>. Put time on the x-axis of both of your subplots. Label the axes of your subplots.\n",
        "\n",
        "9. In a new *Markdown Cell*, describe what you think the dominant oscillation in the ACC LFP might be, and what the dominant oscillation in the locus coeruleus (LC) LFP might be. Are the two different? By visual inspection, do you notice any relationship between the two brain areas during the \"hit\" you plotted, or the \"false alarm\" you plotted? Recall from our notebook on phase coherence that sometimes the peaks and troughs of two oscillations have a consistent relationship across time. Is there any evidence of this in the raw LFP?\n",
        "\n",
        "10. In a new *Code Cell*, compute the coherence for <code>acc_hits</code> and <code>lc_hits</code>. Make sure to follow the steps in the \"Computing the Coherence\" section of our notebook from last week. The end result should be a plot with \"Frequency (Hz)\" on the x-axis, and \"Coherence\" on the y-axis. Label your axes.\n",
        "\n",
        "11. In a new *Markdown Cell*, describe your results. In which frequency band is there the most phase coherence during hits?\n",
        "\n",
        "12. In a new *Code Cell*, repeat step 10, but with <code>acc_fa</code> and <code>lc_fa</code>. Plot the results from step 10 in <font color = 'red'>red</font>, and the results from this step in <font color = 'blue'>blue</font>, in the same plot (in other words, you should have one plot, with two different lines on it - one will be the coherence for \"hits\" that you calculated in step 10, and one will be the coherence for \"false alarms\"). Label your axes.\n",
        "\n",
        "13. In a new *Markdown Cell*, intepret your plot from step 12. Is the frequency at which coherence is strongest different between hits and false alarms? Is coherence higher/lower during hits vs. false alarms? If higher coherence means more communication between the ACC and LC, are these two brain areas talking to each more or less during hits vs. false alarms?\n",
        "\n",
        "14. Make sure to put a <code>#</code> in each *Code Cell* to describe what it does.\n",
        "\n",
        "15. Save a copy of this notebook to your GitHub repo with the title <code>coding_homework_6.ipynb</code>.\n",
        "\n",
        "\n",
        "\n"
      ],
      "metadata": {
        "id": "xMwfSVsEwdtq"
      }
    },
    {
      "cell_type": "markdown",
      "source": [
        "###Amanda Friedman\n",
        "*Intro to Neural Data Analysis*\n",
        "\n",
        "**Friday, April 7th, 2023**"
      ],
      "metadata": {
        "id": "RH3FncCbf5PC"
      }
    },
    {
      "cell_type": "code",
      "source": [
        "#import relevant packages\n",
        "import numpy as np\n",
        "import matplotlib.pyplot as plt\n",
        "print('Coding4L')"
      ],
      "metadata": {
        "colab": {
          "base_uri": "https://localhost:8080/"
        },
        "id": "b9TW3yvRgC4u",
        "outputId": "2e63b328-b982-49c7-a61a-9027db6a91b5"
      },
      "execution_count": 1,
      "outputs": [
        {
          "output_type": "stream",
          "name": "stdout",
          "text": [
            "Coding4L\n"
          ]
        }
      ]
    },
    {
      "cell_type": "code",
      "source": [
        "#import data as numpy arrays called acc_hits, acc_fa, lc_hits, and lc_fa\n",
        "url = 'https://raw.githubusercontent.com/amandafriedmann/NEUR-Data-Analysis/main/acc_hits_hw6.csv'\n",
        "acc_hits = np.loadtxt(url, delimiter = ',')\n",
        "url2 = 'https://raw.githubusercontent.com/amandafriedmann/NEUR-Data-Analysis/main/acc_fa_hw6.csv'\n",
        "acc_fa = np.loadtxt(url2, delimiter = ',')\n",
        "url3 = 'https://raw.githubusercontent.com/amandafriedmann/NEUR-Data-Analysis/main/lc_hits_hw6.csv'\n",
        "lc_hits = np.loadtxt(url3, delimiter = ',')\n",
        "url4 = 'https://raw.githubusercontent.com/amandafriedmann/NEUR-Data-Analysis/main/lc_fa_hw6.csv'\n",
        "lc_fa = np.loadtxt(url4, delimiter = ',')\n",
        "print(acc_hits, acc_fa, lc_hits, lc_fa)"
      ],
      "metadata": {
        "id": "F_CPrtHnj_b6",
        "outputId": "c048c955-602e-47d8-9fd7-aed56f0fdf72",
        "colab": {
          "base_uri": "https://localhost:8080/"
        }
      },
      "execution_count": 2,
      "outputs": [
        {
          "output_type": "stream",
          "name": "stdout",
          "text": [
            "[[ -4.43070891  -2.73832994  -2.70551937 ... -16.80911606 -20.53304288\n",
            "  -25.39216441]\n",
            " [ 16.36119755  16.05372543  13.95677003 ...   0.91000412   0.54375163\n",
            "   -0.33203345]\n",
            " [ 21.64773832  19.35543278  15.36803291 ...  11.11646669  12.82567594\n",
            "   14.55206274]\n",
            " ...\n",
            " [ 13.2723574   12.47038066  10.5393639  ... -11.46389635 -11.50617307\n",
            "  -11.51612934]\n",
            " [-38.68326813 -40.05635553 -39.63933026 ...  12.34627535  11.28141965\n",
            "   11.30765773]\n",
            " [ -3.22212392  -2.22791344  -0.6614105  ...   1.69850851   2.0826952\n",
            "    1.89884394]] [[  4.29357862   2.47858044   1.92134497 ...  35.47202527  32.11441816\n",
            "   27.74148876]\n",
            " [-23.38662716 -21.82583065 -16.50800392 ...  27.70812991  28.28485629\n",
            "   27.46992353]\n",
            " [-25.26540057 -24.13283775 -22.39049521 ...   5.16449803   4.48181629\n",
            "    3.42465029]\n",
            " ...\n",
            " [ 23.92687771  22.02008377  20.94782471 ...   7.33844743   4.28639267\n",
            "    1.19161874]\n",
            " [  7.03287094   4.03853682  -0.88901944 ...  15.93230434  13.66016759\n",
            "    9.52504891]\n",
            " [ -6.34872552 -13.14131055 -18.89476885 ...  10.71496041  14.84254552\n",
            "   17.75244691]] [[ -5.4814021   -3.55276062  -3.24823828 ... -19.18490735 -23.54972754\n",
            "  -28.92962219]\n",
            " [ 17.45928076  17.15475842  15.02310205 ...   1.21808936   0.50753723\n",
            "   -0.71055212]\n",
            " [ 22.63616052  20.19998181  16.03817651 ...  11.57184888  13.19596802\n",
            "   14.82008716]\n",
            " ...\n",
            " [ 12.78993823  12.18089355  10.45526697 ... -10.35375952 -10.55677441\n",
            "  -10.75978931]\n",
            " [-39.6894115  -41.0090083  -40.50147107 ...  14.71857971  13.39898291\n",
            "   13.09446057]\n",
            " [ -4.77084998  -3.34974573  -1.3195968  ...   2.23316382   3.24823828\n",
            "    3.65426807]] [[  5.37989465   3.45125317   2.74070105 ...  38.06529236  34.81705408\n",
            "   30.45223389]\n",
            " [-23.44822009 -22.02711584 -16.85023608 ...  27.50851794  28.92962219\n",
            "   28.92962219]\n",
            " [-25.17384668 -24.26027966 -22.73766797 ...   3.14673084   2.6391936\n",
            "    1.82713403]\n",
            " ...\n",
            " [ 21.72259351  19.79395203  18.77887756 ...   5.88743188   3.14673084\n",
            "    0.40602978]\n",
            " [  9.84622229   6.8009989    1.72562659 ...  15.53063928  12.68843079\n",
            "    8.01908826]\n",
            " [ -5.68441699 -12.48541589 -18.27134033 ...  13.09446057  17.45928076\n",
            "   20.50450415]]\n"
          ]
        }
      ]
    },
    {
      "cell_type": "code",
      "source": [
        "#print the shape of each array\n",
        "print(acc_hits.shape)\n",
        "print(acc_fa.shape)\n",
        "print(lc_hits.shape)\n",
        "print(lc_fa.shape)"
      ],
      "metadata": {
        "id": "b2LvJBLSk5Cm",
        "outputId": "cce84709-5c29-4675-e072-9f5e5108c012",
        "colab": {
          "base_uri": "https://localhost:8080/"
        }
      },
      "execution_count": 3,
      "outputs": [
        {
          "output_type": "stream",
          "name": "stdout",
          "text": [
            "(20, 8001)\n",
            "(28, 8001)\n",
            "(20, 8001)\n",
            "(28, 8001)\n"
          ]
        }
      ]
    }
  ]
}