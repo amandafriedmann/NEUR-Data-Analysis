{
  "nbformat": 4,
  "nbformat_minor": 0,
  "metadata": {
    "colab": {
      "provenance": [],
      "include_colab_link": true
    },
    "kernelspec": {
      "name": "python3",
      "display_name": "Python 3"
    },
    "language_info": {
      "name": "python"
    }
  },
  "cells": [
    {
      "cell_type": "markdown",
      "metadata": {
        "id": "view-in-github",
        "colab_type": "text"
      },
      "source": [
        "<a href=\"https://colab.research.google.com/github/amandafriedmann/NEUR-Data-Analysis/blob/main/coding_homework_1.ipynb\" target=\"_parent\"><img src=\"https://colab.research.google.com/assets/colab-badge.svg\" alt=\"Open In Colab\"/></a>"
      ]
    },
    {
      "cell_type": "markdown",
      "source": [
        "# Coding Homework #1\n",
        "\n",
        "**Instructions** (Note: it is very important you follow these instructions in order!)\n",
        "\n",
        "1. Run the first *Code Cell* below.\n",
        "\n",
        "2. Make a *Markdown Cell* that contains the following information:\n",
        "  * Your name (small header)\n",
        "  * The name of this class (italicized)\n",
        "  * The date (bolded)\n",
        "\n",
        "3. **Important!**: For each *Code Cell* that you create, make at least one line of code with a `#` in front of it that describes what your code does.\n",
        "\n",
        "4. Make a *Code Cell* that turns `v_rest1.csv` into a `Pandas DataFrame` called `pandas_data1`, and `v_rest2.csv` into a `Pandas DataFrame` called `pandas_data2`. Recall that we covered how to import `.csv` files as `Pandas DataFrames` in our in-class coding activity on January 30th. \n",
        "\n",
        "5. Make a *Code Cell* that converts `pandas_data1` into a `list` variable called `data1`, and converts `pandas_data2` into a `list` variable called `data2`. The following syntax is an example of how to do this:\n",
        "\n",
        "\n",
        "```\n",
        "data1 = pandas_data1.values.tolist()\n",
        "```\n",
        "\n",
        "6. When you convert a `Pandas DataFrame` into a `list`, it brackets each individual element - we don't want that! To get around this issue, make a *Code Cell* that flattens `data1` and `data2` using the `numpy.squeeze()` function. Your first *Code Cell* imported the `NumPy` module as `np`, so we can use the following code to flatten `data1`:\n",
        "\n",
        "\n",
        "```\n",
        "data1 = np.squeeze(data1)\n",
        "```\n",
        "&nbsp;&nbsp;&nbsp;&nbsp;&nbsp;&nbsp;&nbsp;&nbsp;&nbsp;&nbsp;Repeat this for `data2`.\n",
        "\n",
        "7. Make a *Code Cell* that prints the length of `data1`.\n",
        "\n",
        "8. Make a *Code Cell* that prints the 5th, 6th, 7th, and 8th elements of `data2`.\n",
        "\n",
        "9. Make a *Code Cell* that prints the second-to-last and last elements of `data1` (use negative indexing).\n",
        "\n",
        "10. Make a *Code Cell* that prints the `type` of `data2` by using the `type` function.\n",
        "\n",
        "11. The first *Code Cell* you ran imports a module called `matplotlib`. In a new *Code Cell*, use `matplotlib` to make a histogram of `data1`. You can use the syntax `plt.hist()` to do this (remember that the variable you are applying the function to goes inside of the parentheses). \n",
        "\n",
        "12. In a new *Code Cell*, re-make your histogram and use the `plt.xlabel()` and `plt.ylabel()` functions to label your axes.\n",
        "\n",
        "13. In a new *Code Cell*, follow the instructions in steps 11 and 12 to make another histogram with axis labels for `data2`. \n",
        "\n",
        "14. In a new *Markdown Cell*, write a brief description of any differences that you observe between your two histograms. Does one group of cells seem to have a higher/lower resting membrane potential than the other group of cells?\n",
        "\n",
        "15. In a new *Code Cell*, create a new variable called `data3`. Let `data3` be a list containing both `data1` and `data2`. \n",
        "\n",
        "16. Make a *Code Cell* that prints the last element of `data2`. You must index `data3` to do this (hint: we covered this in our in-class coding activity on February 1st).\n",
        "\n",
        "17. Save a copy of this notebook to your GitHub repo with the title \"coding_homework_1.pynb\". "
      ],
      "metadata": {
        "id": "R8xCV2iP1KZ_"
      }
    },
    {
      "cell_type": "code",
      "source": [
        "# Import matplotlib, pandas, and numpy\n",
        "\n",
        "from matplotlib import pyplot as plt\n",
        "\n",
        "import pandas as pd\n",
        "\n",
        "import numpy as np"
      ],
      "metadata": {
        "id": "48IPWJIt59-Y"
      },
      "execution_count": 1,
      "outputs": []
    },
    {
      "cell_type": "markdown",
      "source": [
        "##Amanda Friedman\n",
        "*Intro to Neural Data Analysis*\n",
        "\n",
        "**Tuesday, February 7th 2023**"
      ],
      "metadata": {
        "id": "6eJA_BRo-cKI"
      }
    },
    {
      "cell_type": "code",
      "source": [
        "#import Pandas and turn v_rest1.csv and v_rest2.csv into DataFrames\n",
        "import pandas as pd\n",
        "url= 'https://raw.githubusercontent.com/amandafriedmann/NEUR-Data-Analysis/main/vrest_1.csv'\n",
        "pandas_data1= pd.read_csv(url)\n",
        "print(pandas_data1)\n",
        "url2='https://raw.githubusercontent.com/amandafriedmann/NEUR-Data-Analysis/main/vrest_2.csv'\n",
        "pandas_data2= pd.read_csv(url2)\n",
        "print(pandas_data2)\n"
      ],
      "metadata": {
        "id": "wAsACB50xbd1",
        "outputId": "eb312b06-0952-4911-ed18-4d6e5d2816b1",
        "colab": {
          "base_uri": "https://localhost:8080/"
        }
      },
      "execution_count": 2,
      "outputs": [
        {
          "output_type": "stream",
          "name": "stdout",
          "text": [
            "    -70.30732218\n",
            "0     -62.835691\n",
            "1     -44.561193\n",
            "2     -68.183221\n",
            "3     -75.638968\n",
            "4     -65.285700\n",
            "5     -70.820339\n",
            "6     -82.387016\n",
            "7     -63.578380\n",
            "8     -70.703998\n",
            "9     -71.749487\n",
            "10    -77.700669\n",
            "11    -73.231079\n",
            "    -60.65075334\n",
            "0     -67.392374\n",
            "1     -69.994374\n",
            "2     -75.484863\n",
            "3     -71.796001\n",
            "4     -70.135379\n",
            "5     -69.551881\n",
            "6     -68.163923\n",
            "7     -75.082478\n",
            "8     -74.896171\n",
            "9     -73.303031\n",
            "10    -72.551347\n",
            "11    -73.435693\n"
          ]
        }
      ]
    },
    {
      "cell_type": "code",
      "source": [
        "#convert pandas_data1 and pandas_data2 into list variables\n",
        "data1= pandas_data1.values.tolist()\n",
        "print(data1)\n",
        "data2= pandas_data2.values.tolist()\n",
        "print(data2)\n",
        "\n",
        "len(data1)"
      ],
      "metadata": {
        "id": "qvEwiu_9zRC4",
        "outputId": "bbe13c57-57f0-4277-b749-38bed13d28c9",
        "colab": {
          "base_uri": "https://localhost:8080/"
        }
      },
      "execution_count": 3,
      "outputs": [
        {
          "output_type": "stream",
          "name": "stdout",
          "text": [
            "[[-62.83569145], [-44.56119304], [-68.18322086], [-75.63896825], [-65.28569963], [-70.8203392], [-82.3870163], [-63.57837963], [-70.70399753], [-71.74948692], [-77.70066918], [-73.2310791]]\n",
            "[[-67.39237366], [-69.99437408], [-75.48486259], [-71.79600101], [-70.13537903], [-69.55188073], [-68.16392348], [-75.08247757], [-74.89617072], [-73.30303053], [-72.55134721], [-73.43569268]]\n"
          ]
        },
        {
          "output_type": "execute_result",
          "data": {
            "text/plain": [
              "12"
            ]
          },
          "metadata": {},
          "execution_count": 3
        }
      ]
    },
    {
      "cell_type": "code",
      "source": [
        "#squeeze data to get rid of brackets\n",
        "data1=np.squeeze(data1)\n",
        "data2=np.squeeze(data2)\n",
        "print(data1)\n",
        "print(data2)"
      ],
      "metadata": {
        "id": "j9hvHP6WwKzd",
        "outputId": "3ea08228-23cd-4ee8-bd94-541792ad5d57",
        "colab": {
          "base_uri": "https://localhost:8080/"
        }
      },
      "execution_count": 4,
      "outputs": [
        {
          "output_type": "stream",
          "name": "stdout",
          "text": [
            "[-62.83569145 -44.56119304 -68.18322086 -75.63896825 -65.28569963\n",
            " -70.8203392  -82.3870163  -63.57837963 -70.70399753 -71.74948692\n",
            " -77.70066918 -73.2310791 ]\n",
            "[-67.39237366 -69.99437408 -75.48486259 -71.79600101 -70.13537903\n",
            " -69.55188073 -68.16392348 -75.08247757 -74.89617072 -73.30303053\n",
            " -72.55134721 -73.43569268]\n"
          ]
        }
      ]
    },
    {
      "cell_type": "code",
      "source": [
        "#print length of data1\n",
        "print(data1)"
      ],
      "metadata": {
        "id": "BK9V1ifP3X6m",
        "outputId": "fe239469-bce0-4f75-ecf4-29b2e524af40",
        "colab": {
          "base_uri": "https://localhost:8080/"
        }
      },
      "execution_count": 5,
      "outputs": [
        {
          "output_type": "stream",
          "name": "stdout",
          "text": [
            "[-62.83569145 -44.56119304 -68.18322086 -75.63896825 -65.28569963\n",
            " -70.8203392  -82.3870163  -63.57837963 -70.70399753 -71.74948692\n",
            " -77.70066918 -73.2310791 ]\n"
          ]
        }
      ]
    },
    {
      "cell_type": "code",
      "source": [
        "#print 5th, 6th, 7th and 8th elements of data2\n",
        "print(data2[4])\n",
        "print(data2[5])\n",
        "print(data2[6])\n",
        "print(data2[7])\n"
      ],
      "metadata": {
        "id": "2b9l3QTm3bwn",
        "outputId": "460c77e6-d6ff-4c77-96b8-74c088991efd",
        "colab": {
          "base_uri": "https://localhost:8080/"
        }
      },
      "execution_count": 6,
      "outputs": [
        {
          "output_type": "stream",
          "name": "stdout",
          "text": [
            "-70.13537903\n",
            "-69.55188073\n",
            "-68.16392348\n",
            "-75.08247757\n"
          ]
        }
      ]
    },
    {
      "cell_type": "code",
      "source": [
        "#print second to last and last element of data1\n",
        "print(data1[-2])\n",
        "print(data1[-1])"
      ],
      "metadata": {
        "id": "RT5AKkdpBF1h",
        "outputId": "50b20798-778e-4f61-a640-893c2448ca15",
        "colab": {
          "base_uri": "https://localhost:8080/"
        }
      },
      "execution_count": 7,
      "outputs": [
        {
          "output_type": "stream",
          "name": "stdout",
          "text": [
            "-77.70066918\n",
            "-73.2310791\n"
          ]
        }
      ]
    },
    {
      "cell_type": "code",
      "source": [
        "#print type of data2\n",
        "print(data2.dtype)"
      ],
      "metadata": {
        "id": "tGxCWYlSBc_h",
        "outputId": "17fe7259-ad80-4917-dc3c-7da7a33d1ea2",
        "colab": {
          "base_uri": "https://localhost:8080/"
        }
      },
      "execution_count": 8,
      "outputs": [
        {
          "output_type": "stream",
          "name": "stdout",
          "text": [
            "float64\n"
          ]
        }
      ]
    },
    {
      "cell_type": "code",
      "source": [
        "#make a histogram of data1 using matplotlib\n",
        "plt.hist(data1)"
      ],
      "metadata": {
        "id": "IOoqYCvhCBOQ",
        "outputId": "6115cd25-fe5b-417f-f3fa-2a40f629a448",
        "colab": {
          "base_uri": "https://localhost:8080/",
          "height": 350
        }
      },
      "execution_count": 9,
      "outputs": [
        {
          "output_type": "execute_result",
          "data": {
            "text/plain": [
              "(array([1., 2., 2., 3., 2., 1., 0., 0., 0., 1.]),\n",
              " array([-82.3870163 , -78.60443397, -74.82185165, -71.03926932,\n",
              "        -67.256687  , -63.47410467, -59.69152234, -55.90894002,\n",
              "        -52.12635769, -48.34377537, -44.56119304]),\n",
              " <a list of 10 Patch objects>)"
            ]
          },
          "metadata": {},
          "execution_count": 9
        },
        {
          "output_type": "display_data",
          "data": {
            "text/plain": [
              "<Figure size 432x288 with 1 Axes>"
            ],
            "image/png": "[encoded data removed]"
          },
          "metadata": {
            "needs_background": "light"
          }
        }
      ]
    },
    {
      "cell_type": "code",
      "source": [
        "#make a histogram of data1 with x and y axis labels\n",
        "plt.hist(data1)\n",
        "plt.xlabel('Resting Membrane Potential (mV)')\n",
        "plt.ylabel('Frequency')"
      ],
      "metadata": {
        "id": "N-5pK90qCaJ3",
        "outputId": "6b0dfc98-f3b1-4263-9667-ba9c77deee6e",
        "colab": {
          "base_uri": "https://localhost:8080/",
          "height": 296
        }
      },
      "execution_count": 10,
      "outputs": [
        {
          "output_type": "execute_result",
          "data": {
            "text/plain": [
              "Text(0, 0.5, 'Frequency')"
            ]
          },
          "metadata": {},
          "execution_count": 10
        },
        {
          "output_type": "display_data",
          "data": {
            "text/plain": [
              "<Figure size 432x288 with 1 Axes>"
            ],
            "image/png": "[encoded data removed]"
          },
          "metadata": {
            "needs_background": "light"
          }
        }
      ]
    },
    {
      "cell_type": "code",
      "source": [
        "#make a histogram of data2 with x and y axis labels\n",
        "plt.hist(data2)\n",
        "plt.xlabel('Resting Membrane Potential (mV)')\n",
        "plt.ylabel('Frequency')"
      ],
      "metadata": {
        "id": "YCJ0S847DU22",
        "outputId": "2cd448aa-9717-4d30-cb65-f05064ac3e42",
        "colab": {
          "base_uri": "https://localhost:8080/",
          "height": 296
        }
      },
      "execution_count": 11,
      "outputs": [
        {
          "output_type": "execute_result",
          "data": {
            "text/plain": [
              "Text(0, 0.5, 'Frequency')"
            ]
          },
          "metadata": {},
          "execution_count": 11
        },
        {
          "output_type": "display_data",
          "data": {
            "text/plain": [
              "<Figure size 432x288 with 1 Axes>"
            ],
            "image/png": "[encoded data removed]"
          },
          "metadata": {
            "needs_background": "light"
          }
        }
      ]
    },
    {
      "cell_type": "markdown",
      "source": [
        "#Differences Between Data1 and Data2\n",
        "When comparing Data1 and Data2, it seems that the resting membrane potentials that were recorded in Data2 are much more spread out than the potentials in Data1. There is one specific peak in the Data1 graph with another bar as an outlier, but generally it seems to fit a normal distribution. However, in the Data2 histogram there is one larger peak, but the data slightly peaks 4 different times. Overall, while Data1 has a larger amount of data at lower resting membrane potential (around -80mV), it also has a range that includes much higher values (-45mV), while Data2's range is from -75mV to -68mV, making it have a generally lower resting membrane potential. "
      ],
      "metadata": {
        "id": "IipnNPGBEG3G"
      }
    },
    {
      "cell_type": "code",
      "source": [
        "#make a list variable called data3 containing data from data1 and data2\n",
        "data3= np.append(data1, data2)\n",
        "print(data3)\n"
      ],
      "metadata": {
        "id": "nc0gm1EcTW7e",
        "outputId": "7789abc4-9c3c-41b8-8e88-dc7aa08b781d",
        "colab": {
          "base_uri": "https://localhost:8080/"
        }
      },
      "execution_count": 27,
      "outputs": [
        {
          "output_type": "stream",
          "name": "stdout",
          "text": [
            "[-62.83569145 -44.56119304 -68.18322086 -75.63896825 -65.28569963\n",
            " -70.8203392  -82.3870163  -63.57837963 -70.70399753 -71.74948692\n",
            " -77.70066918 -73.2310791  -67.39237366 -69.99437408 -75.48486259\n",
            " -71.79600101 -70.13537903 -69.55188073 -68.16392348 -75.08247757\n",
            " -74.89617072 -73.30303053 -72.55134721 -73.43569268]\n"
          ]
        }
      ]
    },
    {
      "cell_type": "code",
      "source": [
        "#index data 3 to find the last element of data2\n",
        "data3[-1]\n",
        "print(data3[-1])\n"
      ],
      "metadata": {
        "id": "EQVtDHnpYNUE",
        "outputId": "74daf4ac-6989-4431-ae98-de28b083a39b",
        "colab": {
          "base_uri": "https://localhost:8080/"
        }
      },
      "execution_count": 28,
      "outputs": [
        {
          "output_type": "stream",
          "name": "stdout",
          "text": [
            "-73.43569268\n"
          ]
        }
      ]
    }
  ]
}