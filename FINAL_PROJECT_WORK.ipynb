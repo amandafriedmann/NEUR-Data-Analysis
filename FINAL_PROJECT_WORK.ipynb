{
  "nbformat": 4,
  "nbformat_minor": 0,
  "metadata": {
    "colab": {
      "provenance": [],
      "authorship_tag": "ABX9TyMhFqA2WA2evBKwjihv3T45",
      "include_colab_link": true
    },
    "kernelspec": {
      "name": "python3",
      "display_name": "Python 3"
    },
    "language_info": {
      "name": "python"
    }
  },
  "cells": [
    {
      "cell_type": "markdown",
      "metadata": {
        "id": "view-in-github",
        "colab_type": "text"
      },
      "source": [
        "<a href=\"https://colab.research.google.com/github/amandafriedmann/NEUR-Data-Analysis/blob/main/FINAL_PROJECT_WORK.ipynb\" target=\"_parent\"><img src=\"https://colab.research.google.com/assets/colab-badge.svg\" alt=\"Open In Colab\"/></a>"
      ]
    },
    {
      "cell_type": "markdown",
      "source": [
        "Atherosclerosis data"
      ],
      "metadata": {
        "id": "2NGamnuJAEZg"
      }
    },
    {
      "cell_type": "code",
      "execution_count": 1,
      "metadata": {
        "id": "8L4N_F-5_9z4"
      },
      "outputs": [],
      "source": [
        "import numpy as np\n",
        "import matplotlib as mpl\n",
        "import matplotlib.pyplot as plt\n",
        "import pandas as pd"
      ]
    },
    {
      "cell_type": "code",
      "source": [
        "atherosclerosis_data = pd.read_csv('https://raw.githubusercontent.com/amandafriedmann/NEUR-Data-Analysis/main/ATHERO%20REAL%20DATA.csv')\n",
        "microinfarcts_data = pd.read_csv('https://raw.githubusercontent.com/amandafriedmann/NEUR-Data-Analysis/main/MICRO%20REAL%20DATA.csv')\n",
        "print(atherosclerosis_data.shape)\n",
        "print(microinfarcts_data.shape)\n",
        "print(atherosclerosis_data)\n",
        "print(microinfarcts_data)"
      ],
      "metadata": {
        "colab": {
          "base_uri": "https://localhost:8080/"
        },
        "id": "DtrjFy3pou1L",
        "outputId": "d6b6172e-66c1-4fd0-d628-f1f66bfe7c82"
      },
      "execution_count": 7,
      "outputs": [
        {
          "output_type": "stream",
          "name": "stdout",
          "text": [
            "(84, 3)\n",
            "(84, 3)\n",
            "   Atherosclerosis  number of Hematoxylin positive nuclei_Grey matter  \\\n",
            "0             Mild                                             140399   \n",
            "1             Mild                                              86781   \n",
            "2         Moderate                                             117450   \n",
            "3             Mild                                              47069   \n",
            "4             Mild                                              58939   \n",
            "..             ...                                                ...   \n",
            "79        Moderate                                              45037   \n",
            "80            Mild                                              77976   \n",
            "81        Moderate                                              85695   \n",
            "82            Mild                                              93682   \n",
            "83        Moderate                                              91856   \n",
            "\n",
            "    average Hematoxylin positive nucleus area_Grey matter  \n",
            "0                                           27.723282      \n",
            "1                                           26.752265      \n",
            "2                                           29.379291      \n",
            "3                                           27.980744      \n",
            "4                                           27.453015      \n",
            "..                                                ...      \n",
            "79                                          29.321619      \n",
            "80                                          35.218190      \n",
            "81                                          27.925874      \n",
            "82                                          29.092375      \n",
            "83                                          30.996230      \n",
            "\n",
            "[84 rows x 3 columns]\n",
            "    Total Microinfarcts (not observed grossly)  ripa tTau_Grey matter  \\\n",
            "0                                            1            1122.432229   \n",
            "1                                            0            7005.543158   \n",
            "2                                            0             147.565263   \n",
            "3                                            0             283.436842   \n",
            "4                                            2             258.624211   \n",
            "..                                         ...                    ...   \n",
            "79                                           1             704.801053   \n",
            "80                                           9             740.583158   \n",
            "81                                           0             894.136842   \n",
            "82                                           0             531.651579   \n",
            "83                                           1             611.000000   \n",
            "\n",
            "    ripa pTau_Grey matter  \n",
            "0                5.415789  \n",
            "1                5.630526  \n",
            "2               11.489474  \n",
            "3               15.917895  \n",
            "4                3.398947  \n",
            "..                    ...  \n",
            "79               4.146316  \n",
            "80               3.327368  \n",
            "81               3.850526  \n",
            "82               2.507368  \n",
            "83               4.404211  \n",
            "\n",
            "[84 rows x 3 columns]\n"
          ]
        }
      ]
    }
  ]
}