{
  "nbformat": 4,
  "nbformat_minor": 0,
  "metadata": {
    "colab": {
      "provenance": [],
      "include_colab_link": true
    },
    "kernelspec": {
      "name": "python3",
      "display_name": "Python 3"
    },
    "language_info": {
      "name": "python"
    }
  },
  "cells": [
    {
      "cell_type": "markdown",
      "metadata": {
        "id": "view-in-github",
        "colab_type": "text"
      },
      "source": [
        "<a href=\"https://colab.research.google.com/github/amandafriedmann/NEUR-Data-Analysis/blob/main/01_25_23.ipynb\" target=\"_parent\"><img src=\"https://colab.research.google.com/assets/colab-badge.svg\" alt=\"Open In Colab\"/></a>"
      ]
    },
    {
      "cell_type": "markdown",
      "source": [
        "# Programming Fundamentals\n",
        "\n",
        "## Syntax, Expressions, and Variables\n",
        "\n",
        "This notebook will introduce you to Google Colaboratory. We'll also go over the basics of Python syntax. \n",
        "\n",
        "### At the end of this notebook, you'll be able to:\n",
        "* Use Google Colab to run Python3 code\n",
        "* Use basic <b>arithmetic operations</b> in Python\n",
        "* Assign <b>variables</b> and manipulate them\n",
        "* Recognize different **types** of variables\n",
        "\n",
        "\n"
      ],
      "metadata": {
        "id": "aie25Oh_I_Ic"
      }
    },
    {
      "cell_type": "markdown",
      "source": [
        "# What is Google Colaboratory?\n",
        "\n",
        "Google Colaboratory is a Jupyter notebook that is hosted by Google's servers.\n",
        "\n",
        "A <b>Jupyter notebook</b> is a way to combine executable code, code ouputs, and text into one connected file.\n",
        "\n",
        "When you run code in Colaboratory, the code is being executed by CPUs (or GPUs) that belong to Google. The advantage of this is that you don't need to use any **local** resources to run your code.\n",
        "\n",
        "Jupyter notebooks have two types of cells:\n",
        "\n",
        "* A **Markdown** cell (like this one) - used for adding text to your notebook\n",
        "* A **Code** cell - used for executing Python code and viewing output\n",
        "\n"
      ],
      "metadata": {
        "id": "zbOhwC1-KFsr"
      }
    },
    {
      "cell_type": "markdown",
      "source": [
        "### Using Markdown\n",
        "\n",
        "Markdown is useful because it can be formatted using simple symbols.\n",
        "\n",
        "* You can create bulleted lists using asterisks.\n",
        "* Similarly, you can create numbered lists using numbers.\n",
        "* You can **bold** with two asterisks or underscores on either side ('**bold**') or *italicize* with one asterisk or underscore ('*italicize*')\n",
        "* Pound signs (#) create headers. More pound signs means a smaller header.\n",
        "\n",
        "<div class=\\\"alert alert-success\\\"><b>Task:</b> Edit the markdown cell below with a quick biography of yourself. You should have your name as a big header, a short quippy subtitle for yourself as a smaller header, and three bullet points that use both <b>bold</b> and <i>italic</i>.<div>\n",
        "\n"
      ],
      "metadata": {
        "id": "t4WBwNQXLlwl"
      }
    },
    {
      "cell_type": "markdown",
      "source": [
        "# Amanda Friedman\n",
        "## Greetings other people who are terrified of coding:) \n",
        "* I am a newly declared ***Neuroscience*** major\n",
        "* I have **four** cats \n",
        "* I really love *reading* and learning about *literature* \n"
      ],
      "metadata": {
        "id": "Nd8U-i-wNPIJ"
      }
    },
    {
      "cell_type": "markdown",
      "source": [
        "### Using Code cells\n",
        "\n",
        "Code cells will be read by the Python interpretor. In other words, the Python kernel will run whatever it recognizes as code within the cell.\n",
        "\n",
        "<div class=\\\"alert alert-success\\\"><b>Task:</b> Run the code cell below (see instructions within the cell)."
      ],
      "metadata": {
        "id": "iwvg2m1mNVhJ"
      }
    },
    {
      "cell_type": "code",
      "source": [
        "# In Python, anything with a \"#\" in front of it is code annotation, and is not read by the computer.\n",
        "# Run this cell by clicking in it and then pressing shift and enter/return simultaneously.\n",
        "# The line below will print a message for us. After you import it, Python will print a message\n",
        "# (having printed messages like these is a really nice way to check that your cell actually ran!)\n",
        "print('Nice work!')"
      ],
      "metadata": {
        "id": "MA9ZL9blNyBP",
        "outputId": "5019bdc8-e90c-47cc-fec7-5b0dd5f8f801",
        "colab": {
          "base_uri": "https://localhost:8080/"
        }
      },
      "execution_count": 1,
      "outputs": [
        {
          "output_type": "stream",
          "name": "stdout",
          "text": [
            "Nice work!\n"
          ]
        }
      ]
    },
    {
      "cell_type": "markdown",
      "source": [
        "### Python Expressions\n",
        "\n",
        "We can perform various arithmetic operations in Python:\n",
        "\n",
        "|  Symbol  |     Operation     | Usage |\n",
        "|:--------:|:-----------------:|:-----:|\n",
        "|     +    |      Addition     |  10+2 |\n",
        "|     -    |    Subtraction    |  10-2 |\n",
        "|     *    |   Multiplication  |  10*2 |\n",
        "|     /    |      Division     |  10/2 |\n",
        "|    **    |      Exponent     | 10**2 |\n",
        "|     %    |       Modulo      | 10%2  |\n",
        "\n",
        "Notes:\n",
        "\n",
        "* The default order of operations is the same as in mathematics! (PEMDAS)\n",
        "* If you want a whole number from your division, use // instead"
      ],
      "metadata": {
        "id": "YI_QJYWIObm7"
      }
    },
    {
      "cell_type": "markdown",
      "source": [
        "<div class=\\\"alert alert-success\\\"><b>Task:</b> Try each of the operators above. Before using the modulo operator, predict what it will output, and make sure it produces what you expect."
      ],
      "metadata": {
        "id": "WLb61-n3QWYt"
      }
    },
    {
      "cell_type": "code",
      "source": [
        "10%4"
      ],
      "metadata": {
        "id": "4c85jl4PQxzS",
        "outputId": "eeacb957-aae2-4d3a-f7a5-8f26f303fd8d",
        "colab": {
          "base_uri": "https://localhost:8080/"
        }
      },
      "execution_count": 10,
      "outputs": [
        {
          "output_type": "execute_result",
          "data": {
            "text/plain": [
              "2"
            ]
          },
          "metadata": {},
          "execution_count": 10
        }
      ]
    },
    {
      "cell_type": "markdown",
      "source": [
        "## Variables\n",
        "\n",
        "Variables enable us to store a value and come back to it later. They are defined with 'name = value'. *Assignment is not the same thing as equality*, as in mathematics.\n",
        "\n",
        "### Assigning variables"
      ],
      "metadata": {
        "id": "HSx8u625Sf1Z"
      }
    },
    {
      "cell_type": "markdown",
      "source": [
        "<div class=\\\"alert alert-success\\\"><b>Task:</b> Create two variables: a & b. Then, use an expression that combines a and b, and assign this to c. In the end, c should be equal to 6."
      ],
      "metadata": {
        "id": "o2fDcFsDSyaO"
      }
    },
    {
      "cell_type": "code",
      "source": [
        "# Let's save a few integers and then manipulate them.\n",
        "a = 2\n",
        "b = 4\n",
        "c = a+b\n",
        "print(c)"
      ],
      "metadata": {
        "id": "37-uXk8hTAdy",
        "outputId": "9040be8a-9d54-456d-e7f1-7c0842e205f1",
        "colab": {
          "base_uri": "https://localhost:8080/"
        }
      },
      "execution_count": 15,
      "outputs": [
        {
          "output_type": "stream",
          "name": "stdout",
          "text": [
            "6\n"
          ]
        }
      ]
    },
    {
      "cell_type": "code",
      "source": [
        "print(c)"
      ],
      "metadata": {
        "id": "QUPCj6jxykfC",
        "outputId": "7afb5938-7910-4ff7-bbd6-dacab627126a",
        "colab": {
          "base_uri": "https://localhost:8080/"
        }
      },
      "execution_count": 16,
      "outputs": [
        {
          "output_type": "stream",
          "name": "stdout",
          "text": [
            "6\n"
          ]
        }
      ]
    },
    {
      "cell_type": "markdown",
      "source": [
        "<b>Note</b>: Most code cells will not give you an output unless you ask for it. You can use 'print()' to output a variable or string. However, cells that *only* contain one variable will print its value.\n",
        "\n",
        "<div class=\\\"alert alert-success\\\"><b>Task:</b> Create a cell below and output your variable c."
      ],
      "metadata": {
        "id": "BAeAmJMYTHh4"
      }
    },
    {
      "cell_type": "markdown",
      "source": [
        "Usefully, you can run your cells out of order. This is useful for testing and debugging. Change your equation for 'c' above, and re-run the cell with 'c' alone to check its resulting value."
      ],
      "metadata": {
        "id": "AvV9XKkfTyvz"
      }
    },
    {
      "cell_type": "markdown",
      "source": [
        "### Types of Variables\n",
        "\n",
        "Variables can be different types. Python lets you change the type of variables (the function is in parentheses below), however, *you cannot combine types*.\n",
        "\n",
        "* Integers ('int')\n",
        "* String ('str'): letters, numbers, symbols, spaces\n",
        "* Float ('float'): any number with a decimal point (floating point number)\n",
        "\n",
        "You can check what type your variable is by using 'type(variable)'.\n",
        "\n",
        "<b>Note</b>: If you ever need help using a function (e.g., 'type') in Jupyter notebook, you can enter the function followed by a question mark or 'help(function)'. For example, 'type?' or 'help(type)'\n",
        "\n",
        "<b>Hint</b>: You can wrap commands in other commands. For example, we could write 'print(type(all))'.\n",
        "\n",
        "<div class=\\\"alert alert-success\\\"><b>Task:</b> In the cell below, check the type of your variable c."
      ],
      "metadata": {
        "id": "kpMtiafvT9fI"
      }
    },
    {
      "cell_type": "code",
      "source": [
        "# Check the type of c here\n",
        "type(c)\n",
        "help(type)"
      ],
      "metadata": {
        "id": "gaqtplZbU-7F",
        "outputId": "6ede15bd-86f1-420e-c8a8-61bbd2b55b48",
        "colab": {
          "base_uri": "https://localhost:8080/"
        }
      },
      "execution_count": 19,
      "outputs": [
        {
          "output_type": "stream",
          "name": "stdout",
          "text": [
            "Help on class type in module builtins:\n",
            "\n",
            "class type(object)\n",
            " |  type(object_or_name, bases, dict)\n",
            " |  type(object) -> the object's type\n",
            " |  type(name, bases, dict) -> a new type\n",
            " |  \n",
            " |  Methods defined here:\n",
            " |  \n",
            " |  __call__(self, /, *args, **kwargs)\n",
            " |      Call self as a function.\n",
            " |  \n",
            " |  __delattr__(self, name, /)\n",
            " |      Implement delattr(self, name).\n",
            " |  \n",
            " |  __dir__(self, /)\n",
            " |      Specialized __dir__ implementation for types.\n",
            " |  \n",
            " |  __getattribute__(self, name, /)\n",
            " |      Return getattr(self, name).\n",
            " |  \n",
            " |  __init__(self, /, *args, **kwargs)\n",
            " |      Initialize self.  See help(type(self)) for accurate signature.\n",
            " |  \n",
            " |  __instancecheck__(self, instance, /)\n",
            " |      Check if an object is an instance.\n",
            " |  \n",
            " |  __repr__(self, /)\n",
            " |      Return repr(self).\n",
            " |  \n",
            " |  __setattr__(self, name, value, /)\n",
            " |      Implement setattr(self, name, value).\n",
            " |  \n",
            " |  __sizeof__(self, /)\n",
            " |      Return memory consumption of the type object.\n",
            " |  \n",
            " |  __subclasscheck__(self, subclass, /)\n",
            " |      Check if a class is a subclass.\n",
            " |  \n",
            " |  __subclasses__(self, /)\n",
            " |      Return a list of immediate subclasses.\n",
            " |  \n",
            " |  mro(self, /)\n",
            " |      Return a type's method resolution order.\n",
            " |  \n",
            " |  ----------------------------------------------------------------------\n",
            " |  Class methods defined here:\n",
            " |  \n",
            " |  __prepare__(...)\n",
            " |      __prepare__() -> dict\n",
            " |      used to create the namespace for the class statement\n",
            " |  \n",
            " |  ----------------------------------------------------------------------\n",
            " |  Static methods defined here:\n",
            " |  \n",
            " |  __new__(*args, **kwargs)\n",
            " |      Create and return a new object.  See help(type) for accurate signature.\n",
            " |  \n",
            " |  ----------------------------------------------------------------------\n",
            " |  Data descriptors defined here:\n",
            " |  \n",
            " |  __abstractmethods__\n",
            " |  \n",
            " |  __dict__\n",
            " |  \n",
            " |  __text_signature__\n",
            " |  \n",
            " |  ----------------------------------------------------------------------\n",
            " |  Data and other attributes defined here:\n",
            " |  \n",
            " |  __base__ = <class 'object'>\n",
            " |      The base class of the class hierarchy.\n",
            " |      \n",
            " |      When called, it accepts no arguments and returns a new featureless\n",
            " |      instance that has no instance attributes and cannot be given any.\n",
            " |  \n",
            " |  __bases__ = (<class 'object'>,)\n",
            " |  \n",
            " |  __basicsize__ = 880\n",
            " |  \n",
            " |  __dictoffset__ = 264\n",
            " |  \n",
            " |  __flags__ = 2148291584\n",
            " |  \n",
            " |  __itemsize__ = 40\n",
            " |  \n",
            " |  __mro__ = (<class 'type'>, <class 'object'>)\n",
            " |  \n",
            " |  __weakrefoffset__ = 368\n",
            "\n"
          ]
        }
      ]
    },
    {
      "cell_type": "markdown",
      "source": [
        "Different operators in Python will produce different types of variables.\n",
        "\n",
        "<div class=\\\"alert alert-success\\\"><b>Task:</b> Compare the results of 12/2 and 12//2 by assigning the results of these operations to two different variables. Then, use the `int` and `float` functions to transform these variables into an integer and a float called: `result_int` and `result_float`.\n",
        "\n",
        "\n",
        "\n",
        "\n",
        "\n",
        "\n",
        "\n"
      ],
      "metadata": {
        "id": "-WNab5H-VBAS"
      }
    },
    {
      "cell_type": "code",
      "source": [
        "# Write your code here\n",
        "var1 = 12/2 \n",
        "var2 = 12//2\n",
        "\n",
        "result_int = int(var1)\n",
        "result_float = float(var2)\n",
        "\n",
        "print(result_int)\n",
        "print(result_float)\n"
      ],
      "metadata": {
        "id": "yrrqqIhGVf3V",
        "outputId": "eb6b18bd-fe87-4d9e-83ed-5464e87bf724",
        "colab": {
          "base_uri": "https://localhost:8080/",
          "height": 232
        }
      },
      "execution_count": 37,
      "outputs": [
        {
          "output_type": "error",
          "ename": "TypeError",
          "evalue": "ignored",
          "traceback": [
            "\u001b[0;31m---------------------------------------------------------------------------\u001b[0m",
            "\u001b[0;31mTypeError\u001b[0m                                 Traceback (most recent call last)",
            "\u001b[0;32m<ipython-input-37-f07d8e804a80>\u001b[0m in \u001b[0;36m<module>\u001b[0;34m\u001b[0m\n\u001b[1;32m      3\u001b[0m \u001b[0mvar2\u001b[0m \u001b[0;34m=\u001b[0m \u001b[0;36m12\u001b[0m\u001b[0;34m//\u001b[0m\u001b[0;36m2\u001b[0m\u001b[0;34m\u001b[0m\u001b[0;34m\u001b[0m\u001b[0m\n\u001b[1;32m      4\u001b[0m \u001b[0;34m\u001b[0m\u001b[0m\n\u001b[0;32m----> 5\u001b[0;31m \u001b[0mresult_int\u001b[0m \u001b[0;34m=\u001b[0m \u001b[0mint\u001b[0m\u001b[0;34m(\u001b[0m\u001b[0mvar1\u001b[0m\u001b[0;34m)\u001b[0m\u001b[0;34m\u001b[0m\u001b[0;34m\u001b[0m\u001b[0m\n\u001b[0m\u001b[1;32m      6\u001b[0m \u001b[0mresult_float\u001b[0m \u001b[0;34m=\u001b[0m \u001b[0mfloat\u001b[0m\u001b[0;34m(\u001b[0m\u001b[0mvar2\u001b[0m\u001b[0;34m)\u001b[0m\u001b[0;34m\u001b[0m\u001b[0;34m\u001b[0m\u001b[0m\n\u001b[1;32m      7\u001b[0m \u001b[0;34m\u001b[0m\u001b[0m\n",
            "\u001b[0;31mTypeError\u001b[0m: 'float' object is not callable"
          ]
        }
      ]
    },
    {
      "cell_type": "markdown",
      "source": [
        "<div class=\\\"alert alert-success\\\"><b>Task:</b> What happens when you add a float (result_float) and an integer (result_int)? Test below."
      ],
      "metadata": {
        "id": "Y1pTAkeYVmf0"
      }
    },
    {
      "cell_type": "code",
      "source": [
        "# Add your float and int here"
      ],
      "metadata": {
        "id": "5vBDV-pCVtnj"
      },
      "execution_count": null,
      "outputs": []
    },
    {
      "cell_type": "markdown",
      "source": [
        "We can use the command `round()` to round a float number to a whole number.\n",
        "\n",
        "<div class=\\\"alert alert-success\\\"><b>Task:</b> Try round with a float below, and print your result. What kind of variable does this create?"
      ],
      "metadata": {
        "id": "YHZNujEAVw6o"
      }
    },
    {
      "cell_type": "markdown",
      "source": [
        "### Working with Strings\n",
        "\n",
        "Strings are represented by matching beginning & ending quotation marks. A few useful notes:\n",
        "\n",
        "* Quotation marks can be single (`'`) or double (`\"`); use single within double (we'll stick to single, most of the time)\n",
        "  * One single quotation mark within a pair of double quotation marks will be interpreted as an apostrophe (a single quotation mark).\n",
        "* Use `\\\\` to keep single or double quotation mark, instead of reading it as a string (e.g., for a quote or an apostrophe)\n",
        "* <b>Concatenate</b> strings (can be variables) with +\n",
        "\n",
        "<div class=\\\"alert alert-success\\\"><b>Task:</b> Assign your first name to a variable called `d` and your last name to a variable called `e`. Add the two variables together. What is the output? Multiply the two variables. What is the output?"
      ],
      "metadata": {
        "id": "7bZjKBWSV7sg"
      }
    },
    {
      "cell_type": "code",
      "source": [
        "# Create your variables here\n",
        "d = 'Amanda'\n",
        "e = 'Friedman'\n",
        "\n",
        "\n",
        "# Now, add them together\n",
        "print(d+e)\n",
        "\n"
      ],
      "metadata": {
        "id": "6TKYJxGCXcUO",
        "outputId": "d33bb07a-7621-40f3-8e40-f2c1553438fd",
        "colab": {
          "base_uri": "https://localhost:8080/"
        }
      },
      "execution_count": 38,
      "outputs": [
        {
          "output_type": "stream",
          "name": "stdout",
          "text": [
            "AmandaFriedman\n"
          ]
        }
      ]
    },
    {
      "cell_type": "code",
      "source": [
        "# Finally, multiply them together\n",
        "print(d*e)"
      ],
      "metadata": {
        "id": "KCitRrrcNX4Y",
        "outputId": "cb124a91-569a-419f-87e2-c7c37cf68534",
        "colab": {
          "base_uri": "https://localhost:8080/",
          "height": 181
        }
      },
      "execution_count": 40,
      "outputs": [
        {
          "output_type": "error",
          "ename": "TypeError",
          "evalue": "ignored",
          "traceback": [
            "\u001b[0;31m---------------------------------------------------------------------------\u001b[0m",
            "\u001b[0;31mTypeError\u001b[0m                                 Traceback (most recent call last)",
            "\u001b[0;32m<ipython-input-40-7260749a4ed9>\u001b[0m in \u001b[0;36m<module>\u001b[0;34m\u001b[0m\n\u001b[1;32m      1\u001b[0m \u001b[0;31m# Finally, multiply them together\u001b[0m\u001b[0;34m\u001b[0m\u001b[0;34m\u001b[0m\u001b[0;34m\u001b[0m\u001b[0m\n\u001b[0;32m----> 2\u001b[0;31m \u001b[0mprint\u001b[0m\u001b[0;34m(\u001b[0m\u001b[0md\u001b[0m\u001b[0;34m*\u001b[0m\u001b[0me\u001b[0m\u001b[0;34m)\u001b[0m\u001b[0;34m\u001b[0m\u001b[0;34m\u001b[0m\u001b[0m\n\u001b[0m",
            "\u001b[0;31mTypeError\u001b[0m: can't multiply sequence by non-int of type 'str'"
          ]
        }
      ]
    },
    {
      "cell_type": "markdown",
      "source": [
        "<b>Task:</b> Create a new Code cell, and try adding '80' to your `d` variable. What is the output? Try multiplying your `e` variable by 80. What is the output? Try dividing your `e` variable by 80. What is the output?"
      ],
      "metadata": {
        "id": "GtC3eqPWKCRu"
      }
    },
    {
      "cell_type": "code",
      "source": [
        "print(e/80)"
      ],
      "metadata": {
        "id": "sd8fKQYt4rI1",
        "outputId": "2a3a2bd9-5222-4ce4-b50e-b6899dd751de",
        "colab": {
          "base_uri": "https://localhost:8080/",
          "height": 164
        }
      },
      "execution_count": 45,
      "outputs": [
        {
          "output_type": "error",
          "ename": "TypeError",
          "evalue": "ignored",
          "traceback": [
            "\u001b[0;31m---------------------------------------------------------------------------\u001b[0m",
            "\u001b[0;31mTypeError\u001b[0m                                 Traceback (most recent call last)",
            "\u001b[0;32m<ipython-input-45-16d8538a869d>\u001b[0m in \u001b[0;36m<module>\u001b[0;34m\u001b[0m\n\u001b[0;32m----> 1\u001b[0;31m \u001b[0mprint\u001b[0m\u001b[0;34m(\u001b[0m\u001b[0me\u001b[0m\u001b[0;34m/\u001b[0m\u001b[0;36m80\u001b[0m\u001b[0;34m)\u001b[0m\u001b[0;34m\u001b[0m\u001b[0;34m\u001b[0m\u001b[0m\n\u001b[0m",
            "\u001b[0;31mTypeError\u001b[0m: unsupported operand type(s) for /: 'str' and 'int'"
          ]
        }
      ]
    },
    {
      "cell_type": "markdown",
      "source": [
        "We can use the `print` function to show more than one variable, as well as variables of different types. You can separate items within `print` by commas to print multiple variables, e.g. `print(a,b,\"name\")`. You can also print variables within strings by using `print(f)`, and calling variables in `{}`. \n",
        "\n",
        "<b>Task:</b> Create a variable, `age`, that is equal to your age in years. Print a sentence that says `'My name is {first name} {last name}, and I am {age} years old'.`"
      ],
      "metadata": {
        "id": "F1Ro2oFrLFum"
      }
    },
    {
      "cell_type": "code",
      "source": [
        "# Create your sentence here\n",
        "age = 19\n",
        "print('My name is' ,d,e, 'and I am' ,age, 'years old')"
      ],
      "metadata": {
        "id": "TVBFVmUGMblv",
        "outputId": "83f01132-b884-4ab9-8172-8f0d11d01f20",
        "colab": {
          "base_uri": "https://localhost:8080/"
        }
      },
      "execution_count": 51,
      "outputs": [
        {
          "output_type": "stream",
          "name": "stdout",
          "text": [
            "My name is Amanda Friedman and I am 19 years old\n"
          ]
        }
      ]
    },
    {
      "cell_type": "markdown",
      "source": [
        "As we're working through this notebook, the kernel also stores your namespace - all the variables and code that you have declared (executed). You can check which variables and functions are available with the command `%who`, or `%whos` (for more detailed information)\n",
        "\n",
        "<b>Task:</b> Use the `who(s)` command to check your variables below."
      ],
      "metadata": {
        "id": "7H5JRwPYN92F"
      }
    },
    {
      "cell_type": "code",
      "source": [],
      "metadata": {
        "id": "GVt_FUGjN5dI"
      },
      "execution_count": null,
      "outputs": []
    },
    {
      "cell_type": "markdown",
      "source": [
        "## Declaring variables cheat sheet\n",
        "\n",
        "Not *every* word or combination of words and numbers can be a variable name. For example, Python has a list of <b>reserved keywords</b> that cannot be variable names:\n",
        "\n",
        "<table type=\\\"text/css\\\">\n",
        "<tr>\n",
        "<td><code>False</code></td>\n",
        "<td><code>None</code></td>\n",
        "<td><code>True</code></td>\n",
        "<td><code>and</code></td>\n",
        "<td><code>as</code></td>\n",
        "<td><code>assert</code></td>\n",
        "<td><code>break</code></td>\n",
        "</tr>\n",
        "<tr>\n",
        "<td><code>class</code></td>\n",
        "<td><code>continue</code></td>\n",
        "<td><code>def</code></td>\n",
        "<td><code>del</code></td>\n",
        "<td><code>elif</code></td>\n",
        "<td><code>else</code></td>\n",
        "<td><code>except</code></td>\n",
        "</tr>\n",
        "<tr>\n",
        "<td><code>finally</code></td>\n",
        "<td><code>for</code></td>\n",
        "<td><code>from</code></td>\n",
        "<td><code>global</code></td>\n",
        "<td><code>if</code></td>\n",
        "<td><code>import</code></td>\n",
        "<td><code>in</code></td>\n",
        "</tr>\n",
        "<tr>\n",
        "<td><code>is</code></td>\n",
        "<td><code>lambda</code></td>\n",
        "<td><code>nonlocal</code></td>\n",
        "<td><code>not</code></td>\n",
        "<td><code>or</code></td>\n",
        "<td><code>pass</code></td>\n",
        "<td><code>raise</code></td>\n",
        "</tr>\n",
        "<tr>\n",
        "<td><code>return</code></td>\n",
        "<td><code>try</code></td>\n",
        "<td><code>while</code></td>\n",
        "<td><code>with</code></td>\n",
        "<td><code>yield</code></td>\n",
        "</tr>   \n",
        "</table>"
      ],
      "metadata": {
        "id": "JqbcS3BHO0nD"
      }
    },
    {
      "cell_type": "markdown",
      "source": [
        "<b>Task:</b> Attempt to create variables with three different reserved words above. Observe what error you receive."
      ],
      "metadata": {
        "id": "1F0b05ssQYet"
      }
    },
    {
      "cell_type": "code",
      "source": [],
      "metadata": {
        "id": "llKXis3JQgu5"
      },
      "execution_count": null,
      "outputs": []
    },
    {
      "cell_type": "markdown",
      "source": [
        "<b>Task:</b> Instead of simply giving you the other rules for creating variables, use trial and error figure out what works and what doesn't. Are variables case-sensitive? Do numbers and symbols (e.g., %, ^, -) work, and if so, where? Derive three rules about variables and write these in a Markdown cell below."
      ],
      "metadata": {
        "id": "lmhw8paJQqBv"
      }
    },
    {
      "cell_type": "markdown",
      "source": [
        "## Your answers here!"
      ],
      "metadata": {
        "id": "PZg2hAY8Qvne"
      }
    },
    {
      "cell_type": "markdown",
      "source": [
        "Save this Jupyter notebook to your GitHub repository by choosing \"File\", and \"Save a Copy in GitHub\" from the drop-down menu above."
      ],
      "metadata": {
        "id": "HCSw9CJrRDr9"
      }
    }
  ]
}